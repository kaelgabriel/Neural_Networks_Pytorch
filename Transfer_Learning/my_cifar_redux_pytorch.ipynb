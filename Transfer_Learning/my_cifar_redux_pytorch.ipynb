{
 "cells": [
  {
   "cell_type": "code",
   "execution_count": 1,
   "metadata": {},
   "outputs": [
    {
     "name": "stdout",
     "output_type": "stream",
     "text": [
      "Meu nome é: Gabriel Moraes Barros \n",
      "Meu RA é: 192801\n"
     ]
    }
   ],
   "source": [
    "print('Meu nome é: Gabriel Moraes Barros ')\n",
    "print('Meu RA é: 192801')"
   ]
  },
  {
   "cell_type": "code",
   "execution_count": null,
   "metadata": {
    "collapsed": true
   },
   "outputs": [],
   "source": []
  },
  {
   "cell_type": "markdown",
   "metadata": {},
   "source": [
    "Refazer o exercício da week05, porém agora utilizando o PyTorch\n",
    "\n",
    "Para quem estiver já habituado no uso do PyTorch este exercício pode ser trocado pelo:\n",
    "\n",
    "1. Fazer o transfer learning do Cifar (exercício da week06\n",
    "2. Fazer otimização para calcular uma imagem sintética com pixels otimizados para que a probabilidade de uma classe (à sua escolha) seja maximizada."
   ]
  },
  {
   "cell_type": "markdown",
   "metadata": {},
   "source": [
    "Tenho um exemplo ainda em desenvolvimento em https://t-adessowiki.fee.unicamp.br/user/lotufo/notebooks/lotufo/ia368z/deliver-pytorch/transfer_learning_tutorial.ipynb\n",
    "\n",
    "que pode ser utilizado como inspiração. Estou procurando outros também."
   ]
  },
  {
   "cell_type": "markdown",
   "metadata": {},
   "source": [
    "## Importação das bibliotecas"
   ]
  },
  {
   "cell_type": "code",
   "execution_count": 2,
   "metadata": {
    "collapsed": true
   },
   "outputs": [],
   "source": [
    "import numpy as np\n",
    "import matplotlib.pyplot as plt\n",
    "from IPython.display import display\n",
    "%matplotlib inline\n",
    "import pandas as pd"
   ]
  },
  {
   "cell_type": "code",
   "execution_count": 3,
   "metadata": {
    "collapsed": true
   },
   "outputs": [],
   "source": [
    "import time\n",
    "import copy\n",
    "import os\n",
    "import sys\n",
    "from copy import deepcopy"
   ]
  },
  {
   "cell_type": "code",
   "execution_count": 4,
   "metadata": {
    "collapsed": true
   },
   "outputs": [],
   "source": [
    "import torch as tc\n",
    "import torchvision\n",
    "import torch.nn as nn\n",
    "import torch.nn.functional as F\n",
    "import torch.optim as optim\n",
    "import torchvision.transforms as transforms\n",
    "from torch.autograd import Variable\n",
    "from torchvision import datasets, models, transforms\n"
   ]
  },
  {
   "cell_type": "code",
   "execution_count": 5,
   "metadata": {
    "collapsed": true
   },
   "outputs": [],
   "source": [
    "from torch.optim.lr_scheduler import StepLR\n",
    "from PIL import Image\n",
    "plt.ion()   # interactive mode\n"
   ]
  },
  {
   "cell_type": "code",
   "execution_count": 6,
   "metadata": {
    "collapsed": true
   },
   "outputs": [],
   "source": [
    "import torch\n",
    "import torchvision\n",
    "import torchvision.transforms as transforms\n",
    "from torch.autograd import Variable\n",
    "import torch.nn.functional as F \n",
    "from torch import np\n",
    "from torch.optim.lr_scheduler import StepLR\n",
    "import torch.utils.data as data_utils\n",
    "from PIL import Image\n"
   ]
  },
  {
   "cell_type": "markdown",
   "metadata": {},
   "source": [
    "## Define a variável da GPU"
   ]
  },
  {
   "cell_type": "code",
   "execution_count": 7,
   "metadata": {},
   "outputs": [
    {
     "name": "stdout",
     "output_type": "stream",
     "text": [
      "False\n"
     ]
    }
   ],
   "source": [
    "use_gpu = tc.cuda.is_available()\n",
    "print(use_gpu)"
   ]
  },
  {
   "cell_type": "markdown",
   "metadata": {},
   "source": [
    "## Método de criar um dataset igual ao do Antonio ( a145349 )"
   ]
  },
  {
   "cell_type": "code",
   "execution_count": 32,
   "metadata": {
    "collapsed": true
   },
   "outputs": [],
   "source": [
    "class cifar_redux(tc.utils.data.Dataset):\n",
    "    \"\"\"CIFAR redux dataset with 3 classes.\"\"\"\n",
    "    def __init__(self, origin_file, train=False, transform=None):\n",
    "        \"\"\"\n",
    "        Args:\n",
    "            transform (callable, optional): Optional transform to be applied\n",
    "                on a sample.\n",
    "        \"\"\"\n",
    "        self.origin_file = origin_file\n",
    "        self.transform = transform\n",
    "        self.data = np.load(self.origin_file)\n",
    "        if train:\n",
    "            self.images = self.data['X_train']\n",
    "            self.target = tc.from_numpy(self.data['y_train']).type(tc.LongTensor) - 3\n",
    "        else:\n",
    "            self.images = self.data['X_test']\n",
    "            self.target = tc.from_numpy(self.data['y_test']).type(tc.LongTensor) - 3\n",
    "        \n",
    "    def __len__(self):\n",
    "        return len(self.target)\n",
    "\n",
    "    def __getitem__(self, idx):\n",
    "        image = self.images[idx]\n",
    "        target = self.target[idx]\n",
    "        #print(type(image))\n",
    "        #print('image shape',image.shape)\n",
    "        image = Image.fromarray(np.uint8(image.reshape(3, 32, 32).transpose((1,2,0))), 'RGB')\n",
    "        \n",
    "        #print('type image after image',type(image))\n",
    "        if self.transform:\n",
    "            image = self.transform(image)\n",
    "\n",
    "        return image, target"
   ]
  },
  {
   "cell_type": "code",
   "execution_count": null,
   "metadata": {
    "collapsed": true
   },
   "outputs": [],
   "source": []
  },
  {
   "cell_type": "markdown",
   "metadata": {},
   "source": [
    "### Criando as transformações nos dados"
   ]
  },
  {
   "cell_type": "code",
   "execution_count": 33,
   "metadata": {
    "collapsed": true
   },
   "outputs": [],
   "source": [
    "data_transforms = {\n",
    "    'train': transforms.Compose([\n",
    "        transforms.RandomHorizontalFlip(),\n",
    "        transforms.Scale(256),\n",
    "        transforms.RandomCrop(224),\n",
    "        transforms.ToTensor(),\n",
    "    ]),\n",
    "    'test': transforms.Compose([\n",
    "        transforms.Scale(256),\n",
    "        transforms.CenterCrop(224),\n",
    "        transforms.ToTensor(),\n",
    "    ])\n",
    "}\n",
    "\n",
    "no_transform = transforms.Compose([\n",
    "    transforms.ToTensor()\n",
    "])"
   ]
  },
  {
   "cell_type": "markdown",
   "metadata": {},
   "source": [
    "### Fazendo as istâncias do dataset"
   ]
  },
  {
   "cell_type": "code",
   "execution_count": null,
   "metadata": {
    "collapsed": true
   },
   "outputs": [],
   "source": []
  },
  {
   "cell_type": "code",
   "execution_count": 34,
   "metadata": {},
   "outputs": [
    {
     "name": "stdout",
     "output_type": "stream",
     "text": [
      "cifar_redux_augmented_vgg.history   my_mapa_atributos2.ipynb  week04\r\n",
      "cifar_redux_augmented_vgg.model     teste\t\t      week05\r\n",
      "italos\t\t\t\t    Train_function\t      week06\r\n",
      "model1_model_weights.h5\t\t    utils\t\t      week07\r\n",
      "models\t\t\t\t    week02\t\t      week08\r\n",
      "my_cifar_dataplus_model_weights.h5  week03\t\t      week09\r\n"
     ]
    }
   ],
   "source": [
    "!ls .."
   ]
  },
  {
   "cell_type": "code",
   "execution_count": 35,
   "metadata": {
    "collapsed": true
   },
   "outputs": [],
   "source": [
    "\n",
    "cifar_redux_train = cifar_redux('/data/datasets/cifar10-redux.npz', train=True, \n",
    "                                transform=data_transforms['train'])\n",
    "\n",
    "cifar_redux_test = cifar_redux('/data/datasets/cifar10-redux.npz', train=False, \n",
    "                                transform=data_transforms['test'])"
   ]
  },
  {
   "cell_type": "markdown",
   "metadata": {
    "collapsed": true
   },
   "source": [
    "cifar_redux_train = cifar_redux('../cifar10-redux.npz', train=True, \n",
    "                                transform=data_transforms['train'])\n",
    "\n",
    "cifar_redux_test = cifar_redux('../cifar10-redux.npz', train=False, \n",
    "                                transform=data_transforms['test'])"
   ]
  },
  {
   "cell_type": "code",
   "execution_count": 36,
   "metadata": {},
   "outputs": [],
   "source": [
    "cifar_redux_train_no_transform = cifar_redux('/data/datasets/cifar10-redux.npz', train=True,\n",
    "                                             transform = no_transform)"
   ]
  },
  {
   "cell_type": "markdown",
   "metadata": {},
   "source": [
    "## Comparação de imagens com transform e sem transform"
   ]
  },
  {
   "cell_type": "code",
   "execution_count": 37,
   "metadata": {},
   "outputs": [
    {
     "data": {
      "text/plain": [
       "<matplotlib.image.AxesImage at 0x7f5ab15ffa90>"
      ]
     },
     "execution_count": 37,
     "metadata": {},
     "output_type": "execute_result"
    },
    {
     "data": {
      "image/png": "[encoded data removed]",
      "text/plain": [
       "<matplotlib.figure.Figure at 0x7f5a997ddba8>"
      ]
     },
     "metadata": {},
     "output_type": "display_data"
    }
   ],
   "source": [
    "image_without_transf,label1 = cifar_redux_train_no_transform[0]\n",
    "plt.figure()\n",
    "plt.imshow(image_without_transf.numpy().transpose((1,2,0)))"
   ]
  },
  {
   "cell_type": "code",
   "execution_count": 38,
   "metadata": {},
   "outputs": [
    {
     "data": {
      "text/plain": [
       "<matplotlib.image.AxesImage at 0x7f5ab1586588>"
      ]
     },
     "execution_count": 38,
     "metadata": {},
     "output_type": "execute_result"
    },
    {
     "data": {
      "image/png": "[encoded data removed]",
      "text/plain": [
       "<matplotlib.figure.Figure at 0x7f5ab169b9e8>"
      ]
     },
     "metadata": {},
     "output_type": "display_data"
    }
   ],
   "source": [
    "image_with_transf,label0 = cifar_redux_train[0]\n",
    "plt.figure()\n",
    "plt.imshow(image_with_transf.numpy().transpose((1,2,0)))"
   ]
  },
  {
   "cell_type": "markdown",
   "metadata": {},
   "source": [
    "### Criando o dataloader"
   ]
  },
  {
   "cell_type": "code",
   "execution_count": 39,
   "metadata": {},
   "outputs": [
    {
     "name": "stdout",
     "output_type": "stream",
     "text": [
      "length of training dataloader 500\n",
      "length of test dataloader 50\n"
     ]
    }
   ],
   "source": [
    "train_loader = tc.utils.data.DataLoader(cifar_redux_train, batch_size=4, shuffle=True, num_workers=2)\n",
    "test_loader = tc.utils.data.DataLoader(cifar_redux_test, batch_size=10, shuffle=False, num_workers=2)\n",
    "\n",
    "print('length of training dataloader', len(train_loader))\n",
    "print('length of test dataloader', len(test_loader))"
   ]
  },
  {
   "cell_type": "code",
   "execution_count": 40,
   "metadata": {},
   "outputs": [
    {
     "name": "stdout",
     "output_type": "stream",
     "text": [
      "<class 'torch.utils.data.dataloader.DataLoader'>\n"
     ]
    }
   ],
   "source": [
    "print(type(train_loader))"
   ]
  },
  {
   "cell_type": "markdown",
   "metadata": {},
   "source": [
    "## Função para treinamento"
   ]
  },
  {
   "cell_type": "markdown",
   "metadata": {},
   "source": [
    "Training the model\n",
    "------------------\n",
    "\n",
    "Now, let's write a general function to train a model. Here, we will\n",
    "illustrate:\n",
    "\n",
    "-  Scheduling the learning rate\n",
    "-  Saving (deep copying) the best model\n",
    "\n",
    "In the following, parameter ``lr_scheduler(optimizer, epoch)``\n",
    "is a function  which modifies ``optimizer`` so that the learning\n",
    "rate is changed according to desired schedule.\n"
   ]
  },
  {
   "cell_type": "code",
   "execution_count": 41,
   "metadata": {
    "collapsed": true
   },
   "outputs": [],
   "source": [
    "def train_model(model,dset_loaders, dset_sizes,\n",
    "                criterion, optimizer, lr_scheduler,\n",
    "                num_epochs=25, model_fn=None, reset=False):\n",
    "    \n",
    "    since = time.time()\n",
    "\n",
    "    if not reset and os.path.isfile(model_fn):\n",
    "        #model.load_state_dict(tc.load(model_fn))\n",
    "        print('Loading model %s' % model_fn)\n",
    "        model = tc.load(model_fn)\n",
    "    else:\n",
    "        print('Build model from init')\n",
    "    try:\n",
    "        best_model = copy.deepcopy(model)\n",
    "        best_epoch = 0\n",
    "        best_acc = 0.0\n",
    "\n",
    "        for epoch in range(num_epochs):\n",
    "            start_epoch = time.time()\n",
    "            print('Epoch {}/{}'.format(epoch, num_epochs - 1))\n",
    "            print('-' * 10)\n",
    "\n",
    "            # Each epoch has a training and validation phase\n",
    "            for phase in ['train', 'val']:\n",
    "                if phase == 'train':\n",
    "                    optimizer = lr_scheduler(optimizer, epoch)\n",
    "                    model.train(True)  # Set model to training mode\n",
    "                else:\n",
    "                    model.train(False)  # Set model to evaluate mode\n",
    "\n",
    "                running_loss = 0.0\n",
    "                running_corrects = 0\n",
    "\n",
    "                # Iterate over data.\n",
    "                for k,data in enumerate(dset_loaders[phase]):\n",
    "                    if k > 500:\n",
    "                        break\n",
    "                    sys.stdout.write('%d/%d mini-batch: %s\\r' % (k,len(dset_loaders[phase]),phase))\n",
    "                    # get the inputs\n",
    "                    inputs, labels = data\n",
    "                    #$inputs, labels = Variable(inputs.cuda()), Variable(labels.cuda())\n",
    "                    \n",
    "                    # wrap them in Variable\n",
    "                    if use_gpu:\n",
    "\n",
    "                        inputs, labels = Variable(inputs.cuda()),Variable(labels.cuda())\n",
    "                    else:\n",
    "                        inputs, labels = Variable(inputs), Variable(labels)\n",
    "                                        # zero the parameter gradients\n",
    "                    optimizer.zero_grad()\n",
    "\n",
    "                    #print('qual tipo ta essa desgraça',type(inputs))\n",
    "                    # forward\n",
    "                    #print('type model inpouts',model(inpu))\n",
    "                    outputs = model(inputs)\n",
    "                    _, preds = tc.max(outputs.data, 1)\n",
    "                    loss = criterion(outputs, labels)\n",
    "\n",
    "                    # backward + optimize only if in training phase\n",
    "                    if phase == 'train':\n",
    "                        loss.backward()\n",
    "                        optimizer.step()\n",
    "\n",
    "                    # statistics\n",
    "                    running_loss += loss.data[0]\n",
    "                    running_corrects += tc.sum(preds == labels.data)\n",
    "\n",
    "                epoch_loss = running_loss / dset_sizes[phase]\n",
    "                epoch_acc = running_corrects / dset_sizes[phase]\n",
    "\n",
    "                time_epoch = time.time() - start_epoch\n",
    "                #print('{}({:.1f}s) Loss: {:.4f} Acc: {:.4f}'.format(\n",
    "                 #p   hase, time_epoch, epoch_loss, epoch_acc))\n",
    "\n",
    "                # deep copy the model\n",
    "                if phase == 'val' and epoch_acc > best_acc:\n",
    "                    best_acc = epoch_acc\n",
    "                    best_epoch = epoch\n",
    "                    best_model = copy.deepcopy(model)\n",
    "\n",
    "            print()\n",
    "    except  KeyboardInterrupt:\n",
    "        print('Interrupted!!')\n",
    "    \n",
    "    if model_fn:\n",
    "        tc.save(best_model, model_fn)\n",
    "    \n",
    "    time_elapsed = time.time() - since\n",
    "    print('Training complete in {:.0f}m {:.0f}s'.format(\n",
    "        time_elapsed // 60, time_elapsed % 60))\n",
    "    print('Best val Acc: {:4f} at epoch: {}'.format(best_acc,best_epoch))\n",
    "    return best_model"
   ]
  },
  {
   "cell_type": "code",
   "execution_count": 42,
   "metadata": {
    "collapsed": true
   },
   "outputs": [],
   "source": [
    "def visualize_model(model,dset_loaders, num_images=6):\n",
    "    images_so_far = 0\n",
    "    fig = plt.figure()\n",
    "\n",
    "    for i, data in enumerate(dset_loaders['val']):\n",
    "        inputs, labels = data\n",
    "        if use_gpu:\n",
    "            inputs, labels = Variable(inputs.cuda()), Variable(labels.cuda())\n",
    "        else:\n",
    "            inputs, labels = Variable(inputs), Variable(labels)\n",
    "\n",
    "        print('type do inpyts',type(inputs))\n",
    "        print('type do model inputs',type(model(inputs)))\n",
    "        outputs = model(inputs)\n",
    "        _, preds = torch.max(outputs.data, 1)\n",
    "\n",
    "        for j in range(inputs.size()[0]):\n",
    "            images_so_far += 1\n",
    "            ax = plt.subplot(num_images//2, 2, images_so_far)\n",
    "            ax.axis('off')\n",
    "            ax.set_title('predicted: {}'.format(dset_classes[preds[j]]))\n",
    "            imshow(inputs.cpu().data[j])\n",
    "\n",
    "            if images_so_far == num_images:\n",
    "                return"
   ]
  },
  {
   "cell_type": "markdown",
   "metadata": {},
   "source": [
    "Learning rate scheduler\n",
    "\n",
    "^^^^^^^^^^^^^^^^^^^^^^^\n",
    "\n",
    "Let's create our learning rate scheduler. We will exponentially\n",
    "decrease the learning rate once every few epochs.\n",
    "\n"
   ]
  },
  {
   "cell_type": "code",
   "execution_count": 43,
   "metadata": {
    "collapsed": true
   },
   "outputs": [],
   "source": [
    "def exp_lr_scheduler(optimizer, epoch, init_lr=0.001, lr_decay_epoch=7):\n",
    "    \"\"\"Decay learning rate by a factor of 0.1 every lr_decay_epoch epochs.\"\"\"\n",
    "    lr = init_lr * (0.1**(epoch // lr_decay_epoch))\n",
    "\n",
    "    if epoch % lr_decay_epoch == 0:\n",
    "        print('LR is set to {}'.format(lr))\n",
    "\n",
    "    for param_group in optimizer.param_groups:\n",
    "        param_group['lr'] = lr\n",
    "\n",
    "    return optimizer"
   ]
  },
  {
   "cell_type": "markdown",
   "metadata": {},
   "source": [
    "## Criando o modelo"
   ]
  },
  {
   "cell_type": "code",
   "execution_count": 44,
   "metadata": {
    "collapsed": true
   },
   "outputs": [],
   "source": [
    "n_classes=3"
   ]
  },
  {
   "cell_type": "code",
   "execution_count": 45,
   "metadata": {},
   "outputs": [
    {
     "name": "stdout",
     "output_type": "stream",
     "text": [
      "Beggnining\n",
      "hey\n"
     ]
    }
   ],
   "source": [
    "print('Beggnining')\n",
    "model_ft = models.resnet18(pretrained=True)\n",
    "print('hey')"
   ]
  },
  {
   "cell_type": "code",
   "execution_count": 46,
   "metadata": {},
   "outputs": [
    {
     "name": "stdout",
     "output_type": "stream",
     "text": [
      "Bloco problematico\n",
      "done\n"
     ]
    }
   ],
   "source": [
    "print(\"Bloco problematico\")\n",
    "if use_gpu:\n",
    "    print('here')\n",
    "    model_ft = model_ft.cuda()\n",
    "\n",
    "## Congelando o modelo\n",
    "for param in model_ft.parameters():\n",
    "    param.requires_grad = False\n",
    "print(\"done\")"
   ]
  },
  {
   "cell_type": "code",
   "execution_count": null,
   "metadata": {
    "collapsed": true
   },
   "outputs": [],
   "source": []
  },
  {
   "cell_type": "code",
   "execution_count": 47,
   "metadata": {},
   "outputs": [
    {
     "name": "stdout",
     "output_type": "stream",
     "text": [
      "non gpu\n",
      "done\n"
     ]
    }
   ],
   "source": [
    "# Parameters of newly constructed modules have requires_grad=True by default\n",
    "num_ftrs = model_ft.fc.in_features\n",
    "if use_gpu:\n",
    "    print('gpu')\n",
    "    model_ft.fc = nn.Linear(num_ftrs, n_classes).cuda()\n",
    "else:\n",
    "    print('non gpu')\n",
    "    model_ft.fc = nn.Linear(num_ftrs, n_classes)\n",
    "print('done')"
   ]
  },
  {
   "cell_type": "code",
   "execution_count": null,
   "metadata": {
    "collapsed": true
   },
   "outputs": [],
   "source": []
  },
  {
   "cell_type": "markdown",
   "metadata": {},
   "source": [
    "## Definindo critérios, learning_rate, etv"
   ]
  },
  {
   "cell_type": "code",
   "execution_count": 48,
   "metadata": {
    "collapsed": true
   },
   "outputs": [],
   "source": [
    "criterion = nn.CrossEntropyLoss()\n",
    "\n",
    "# Observe that all parameters are being optimized\n",
    "#optimizer = optim.Adam(model_ft.parameters(), lr=2e-5)\n",
    "#Coloca o optimizer apenas nos parametros que vc quer que treine!\n",
    "optimizer_ft = torch.optim.SGD(filter(lambda p: p.requires_grad, model_ft.parameters()), momentum=0.9,lr=0.001)\n",
    "\n",
    "#optimizer_ft = optim.SGD(model_ft.parameters(), lr=0.001, momentum=0.9)"
   ]
  },
  {
   "cell_type": "code",
   "execution_count": null,
   "metadata": {
    "collapsed": true
   },
   "outputs": [],
   "source": []
  },
  {
   "cell_type": "markdown",
   "metadata": {},
   "source": [
    "## Criando um dictionary apenas para poder usar a funcao do exemplo transfer_learning"
   ]
  },
  {
   "cell_type": "code",
   "execution_count": 49,
   "metadata": {
    "collapsed": true
   },
   "outputs": [],
   "source": [
    "# Empty dict\n",
    "new_dict = {}\n",
    "# Fill in the entries one by one\n",
    "new_dict[\"train\"] = train_loader\n",
    "new_dict['val'] = test_loader"
   ]
  },
  {
   "cell_type": "code",
   "execution_count": 50,
   "metadata": {},
   "outputs": [
    {
     "name": "stdout",
     "output_type": "stream",
     "text": [
      "{'train': 500, 'val': 50}\n"
     ]
    }
   ],
   "source": [
    "dset_sizes = {x: len(new_dict[x]) for x in ['train', 'val']}\n",
    "print(dset_sizes)"
   ]
  },
  {
   "cell_type": "code",
   "execution_count": 51,
   "metadata": {},
   "outputs": [
    {
     "name": "stdout",
     "output_type": "stream",
     "text": [
      "<class 'dict'>\n",
      "2\n",
      "500\n",
      "50\n"
     ]
    }
   ],
   "source": [
    "print(type(new_dict))\n",
    "print(len(new_dict))\n",
    "print(len(new_dict['train']))\n",
    "print(len(new_dict['val']))"
   ]
  },
  {
   "cell_type": "code",
   "execution_count": null,
   "metadata": {},
   "outputs": [
    {
     "name": "stdout",
     "output_type": "stream",
     "text": [
      "Build model from init\n",
      "Epoch 0/19\n",
      "----------\n",
      "LR is set to 0.001\n",
      "49/50 mini-batch: valrain\n",
      "Epoch 1/19\n",
      "----------\n",
      "49/50 mini-batch: valrain\n",
      "Epoch 2/19\n",
      "----------\n",
      "49/50 mini-batch: valrain\n",
      "Epoch 3/19\n",
      "----------\n",
      "447/500 mini-batch: train\r"
     ]
    }
   ],
   "source": [
    "model_fname = '/home/gabriel/jupyter/Redes Neurais/models/resnet18_finetunning.model'\n",
    "model_ft = train_model(model_ft, new_dict,dset_sizes,criterion, optimizer_ft, exp_lr_scheduler,\n",
    "                       num_epochs=20,\n",
    "                       \n",
    "                       model_fn=None, \n",
    "                       reset=True)"
   ]
  },
  {
   "cell_type": "code",
   "execution_count": null,
   "metadata": {
    "collapsed": true
   },
   "outputs": [],
   "source": [
    "def evaluate_network(data_loader, model):\n",
    "    correct = 0\n",
    "    total = 0\n",
    "    \n",
    "    model.cpu()\n",
    "    model.eval()\n",
    "    for data in data_loader:\n",
    "        images, labels = data\n",
    "        outputs = model(Variable(images))\n",
    "        _, predicted = torch.max(outputs.data, 1)\n",
    "        total += labels.size(0)\n",
    "        correct += (predicted == labels).sum()\n",
    "    model.train()\n",
    "    model.cuda()\n",
    "    accuracy = 100.0 * correct / total\n",
    "    \n",
    "    print('Accuracy of the network on the total amount of images: %d %%' % (accuracy))\n",
    "    \n",
    "    return (accuracy)"
   ]
  },
  {
   "cell_type": "code",
   "execution_count": null,
   "metadata": {
    "collapsed": true
   },
   "outputs": [],
   "source": [
    "evaluate_network(test_loader, model_ft)"
   ]
  },
  {
   "cell_type": "code",
   "execution_count": null,
   "metadata": {
    "collapsed": true
   },
   "outputs": [],
   "source": []
  }
 ],
 "metadata": {
  "kernelspec": {
   "display_name": "Python 3",
   "language": "python",
   "name": "python3"
  },
  "language_info": {
   "codemirror_mode": {
    "name": "ipython",
    "version": 3
   },
   "file_extension": ".py",
   "mimetype": "text/x-python",
   "name": "python",
   "nbconvert_exporter": "python",
   "pygments_lexer": "ipython3",
   "version": "3.6.0"
  }
 },
 "nbformat": 4,
 "nbformat_minor": 2
}
