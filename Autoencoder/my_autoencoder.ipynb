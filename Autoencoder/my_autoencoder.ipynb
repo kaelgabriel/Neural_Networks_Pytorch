{
 "cells": [
  {
   "cell_type": "code",
   "execution_count": 2,
   "metadata": {},
   "outputs": [
    {
     "name": "stdout",
     "output_type": "stream",
     "text": [
      "Meu nome é: Gabriel Moraes Barros \n",
      "Meu RA é: 192801\n"
     ]
    }
   ],
   "source": [
    "print('Meu nome é: Gabriel Moraes Barros ')\n",
    "print('Meu RA é: 192801')"
   ]
  },
  {
   "cell_type": "markdown",
   "metadata": {},
   "source": [
    "# Autocodificadores"
   ]
  },
  {
   "cell_type": "markdown",
   "metadata": {},
   "source": [
    "Fazer um jupyter notebook com autocodificador, a exemplo do exemplo mostrado em aula usando o Keras:\n",
    "\n",
    "- https://t-adessowiki.fee.unicamp.br/user/aluno/notebooks/ia368z_2s2017/ia368z/deliver-keras/DenseAutoencoder.ipynb\n",
    "\n",
    "Com as seguintes modificações:\n",
    "\n",
    "- Utilizar o PyTorch\n",
    "- Se possível, utilizar um autocodificador convolucional, porém não é imperativo\n",
    "- Uma vez que o autocodificador seja treinado e o espaço bidimensional seja mostrado dos códigos dos dígitos da base de dados NMIST, gerar novas imagens:\n",
    "  - mostrar algumas imagens em pontos quaisquer neste espaço bidimensional\n",
    "  - dados dois pontos neste espaço, mostrar várias imagens, começando no ponto 1 e caminhando numa reta que une os dois pontos, gerar imagens associadas a pontos igualmente espaçados nessa reta, até chegar ao segundo ponto. É se esperar que os números gerados sejam interpolados entre eles."
   ]
  },
  {
   "cell_type": "code",
   "execution_count": 3,
   "metadata": {
    "collapsed": true
   },
   "outputs": [],
   "source": [
    "import numpy as np\n",
    "from PIL import Image\n",
    "from IPython import display\n",
    "%matplotlib inline\n"
   ]
  },
  {
   "cell_type": "code",
   "execution_count": 4,
   "metadata": {
    "collapsed": true
   },
   "outputs": [],
   "source": [
    "import torch as tc\n",
    "import torchvision\n",
    "import torch.optim as optim\n",
    "\n",
    "import torchvision.transforms as transforms\n",
    "from torch.autograd import Variable\n"
   ]
  },
  {
   "cell_type": "code",
   "execution_count": 5,
   "metadata": {
    "collapsed": true
   },
   "outputs": [],
   "source": [
    "import torch"
   ]
  },
  {
   "cell_type": "code",
   "execution_count": 6,
   "metadata": {
    "collapsed": true
   },
   "outputs": [],
   "source": [
    "import time\n",
    "import copy\n",
    "import os\n",
    "import sys\n",
    "from copy import deepcopy"
   ]
  },
  {
   "cell_type": "code",
   "execution_count": 7,
   "metadata": {},
   "outputs": [
    {
     "name": "stdout",
     "output_type": "stream",
     "text": [
      "False\n"
     ]
    }
   ],
   "source": [
    "use_gpu = torch.cuda.is_available()\n",
    "\n",
    "print(use_gpu)"
   ]
  },
  {
   "cell_type": "markdown",
   "metadata": {},
   "source": [
    "## Carregamento do MNIST dataset (já está no disco)"
   ]
  },
  {
   "cell_type": "markdown",
   "metadata": {},
   "source": [
    "A base de dados MNIST está disponível em: http://yann.lecun.com/exdb/mnist/\n",
    "Consiste de 60 mil amostras de treinamento e 10 mil amostras de teste. Cada amostra é uma pequena imagem em níveis de cinza de tamanho 28x28 pixels com valores entre 0 e 255.\n",
    "\n",
    "A base já está carregada e disponível em /data/datasets:"
   ]
  },
  {
   "cell_type": "code",
   "execution_count": 8,
   "metadata": {
    "collapsed": true
   },
   "outputs": [],
   "source": [
    "data_train = torchvision.datasets.MNIST('/data/datasets/mnist_pytorch/', train=True)\n",
    "data_test  = torchvision.datasets.MNIST('/data/datasets/mnist_pytorch/', train=False)\n",
    "\n",
    "#data_train = torchvision.datasets.MNIST('../datasets/mnist_pytorch/', train=True,transform = transforms.ToTensor())\n",
    "#data_test  = torchvision.datasets.MNIST('../datasets/mnist_pytorch/', train=False,transform = transforms.ToTensor())"
   ]
  },
  {
   "cell_type": "code",
   "execution_count": null,
   "metadata": {
    "collapsed": true
   },
   "outputs": [],
   "source": []
  },
  {
   "cell_type": "code",
   "execution_count": 11,
   "metadata": {},
   "outputs": [
    {
     "data": {
      "text/plain": [
       "(60000, 10000)"
      ]
     },
     "execution_count": 11,
     "metadata": {},
     "output_type": "execute_result"
    }
   ],
   "source": [
    "len(data_train), len(data_test)"
   ]
  },
  {
   "cell_type": "code",
   "execution_count": 12,
   "metadata": {},
   "outputs": [
    {
     "data": {
      "text/plain": [
       "(torch.Size([60000, 28, 28]), torch.Size([10000, 28, 28]))"
      ]
     },
     "execution_count": 12,
     "metadata": {},
     "output_type": "execute_result"
    }
   ],
   "source": [
    "data_train.train_data.shape, data_test.test_data.shape"
   ]
  },
  {
   "cell_type": "markdown",
   "metadata": {},
   "source": [
    "## Treinando com pouquíssimos dados"
   ]
  },
  {
   "cell_type": "code",
   "execution_count": 13,
   "metadata": {
    "collapsed": true
   },
   "outputs": [],
   "source": [
    "if True:\n",
    "    n_train_samples = 10000\n",
    "    n_test_samples = 5000\n",
    "    data_train.train_data = data_train.train_data[:n_train_samples]\n",
    "    data_train.train_labels = data_train.train_labels[:n_train_samples]\n",
    "    data_test.test_data   = data_test.test_data[:n_test_samples]\n",
    "    data_test.test_labels = data_test.test_labels[:n_test_samples]"
   ]
  },
  {
   "cell_type": "code",
   "execution_count": 14,
   "metadata": {},
   "outputs": [
    {
     "data": {
      "text/plain": [
       "(torch.Size([10000, 28, 28]), torch.Size([5000, 28, 28]))"
      ]
     },
     "execution_count": 14,
     "metadata": {},
     "output_type": "execute_result"
    }
   ],
   "source": [
    "data_train.train_data.shape, data_test.test_data.shape"
   ]
  },
  {
   "cell_type": "markdown",
   "metadata": {},
   "source": [
    "## Criando o dataloader "
   ]
  },
  {
   "cell_type": "markdown",
   "metadata": {},
   "source": [
    "### Criando o dicionário com os 2 valores"
   ]
  },
  {
   "cell_type": "code",
   "execution_count": 15,
   "metadata": {
    "collapsed": true
   },
   "outputs": [],
   "source": [
    "data = {}\n",
    "data['X_train'] = data_train.train_data\n",
    "data['X_test'] = data_train.train_labels\n",
    "data['y_train'] = data_test.test_data\n",
    "data['y_test'] = data_test.test_labels\n",
    "\n",
    "data_sizes =[{x : len(data[x]) for x in ['X_train', 'X_test', 'y_train', 'y_test']}]\n"
   ]
  },
  {
   "cell_type": "code",
   "execution_count": 16,
   "metadata": {},
   "outputs": [
    {
     "name": "stdout",
     "output_type": "stream",
     "text": [
      "[{'X_test': 10000, 'y_test': 5000, 'y_train': 5000, 'X_train': 10000}]\n"
     ]
    }
   ],
   "source": [
    "print(data_sizes)"
   ]
  },
  {
   "cell_type": "code",
   "execution_count": 1,
   "metadata": {},
   "outputs": [
    {
     "ename": "NameError",
     "evalue": "name 'tc' is not defined",
     "output_type": "error",
     "traceback": [
      "\u001b[0;31m---------------------------------------------------------------------------\u001b[0m",
      "\u001b[0;31mNameError\u001b[0m                                 Traceback (most recent call last)",
      "\u001b[0;32m<ipython-input-1-6229769e2069>\u001b[0m in \u001b[0;36m<module>\u001b[0;34m()\u001b[0m\n\u001b[0;32m----> 1\u001b[0;31m \u001b[0;32mclass\u001b[0m \u001b[0mmnist_loader\u001b[0m\u001b[0;34m(\u001b[0m\u001b[0mtc\u001b[0m\u001b[0;34m.\u001b[0m\u001b[0mutils\u001b[0m\u001b[0;34m.\u001b[0m\u001b[0mdata\u001b[0m\u001b[0;34m.\u001b[0m\u001b[0mDataset\u001b[0m\u001b[0;34m)\u001b[0m\u001b[0;34m:\u001b[0m\u001b[0;34m\u001b[0m\u001b[0m\n\u001b[0m\u001b[1;32m      2\u001b[0m     \u001b[0;32mdef\u001b[0m \u001b[0m__init__\u001b[0m\u001b[0;34m(\u001b[0m\u001b[0mself\u001b[0m\u001b[0;34m,\u001b[0m \u001b[0mdata\u001b[0m\u001b[0;34m,\u001b[0m \u001b[0mtrain\u001b[0m\u001b[0;34m=\u001b[0m\u001b[0;32mFalse\u001b[0m\u001b[0;34m,\u001b[0m \u001b[0mtransform\u001b[0m\u001b[0;34m=\u001b[0m\u001b[0;32mNone\u001b[0m\u001b[0;34m)\u001b[0m\u001b[0;34m:\u001b[0m\u001b[0;34m\u001b[0m\u001b[0m\n\u001b[1;32m      3\u001b[0m         \"\"\"\n\u001b[1;32m      4\u001b[0m         \u001b[0mArgs\u001b[0m\u001b[0;34m:\u001b[0m\u001b[0;34m\u001b[0m\u001b[0m\n\u001b[1;32m      5\u001b[0m             \u001b[0mtransform\u001b[0m \u001b[0;34m(\u001b[0m\u001b[0mcallable\u001b[0m\u001b[0;34m,\u001b[0m \u001b[0moptional\u001b[0m\u001b[0;34m)\u001b[0m\u001b[0;34m:\u001b[0m \u001b[0mOptional\u001b[0m \u001b[0mtransform\u001b[0m \u001b[0mto\u001b[0m \u001b[0mbe\u001b[0m \u001b[0mapplied\u001b[0m\u001b[0;34m\u001b[0m\u001b[0m\n",
      "\u001b[0;31mNameError\u001b[0m: name 'tc' is not defined"
     ]
    }
   ],
   "source": [
    "class mnist_loader(tc.utils.data.Dataset):\n",
    "    def __init__(self, data, train=False, transform=None):\n",
    "        \"\"\"\n",
    "        Args:\n",
    "            transform (callable, optional): Optional transform to be applied\n",
    "                on a sample.\n",
    "        \"\"\"\n",
    "        self.transform = transform\n",
    "        self.data = data\n",
    "        if train:\n",
    "            self.images = self.data['X_train'].numpy()\n",
    "            self.target = self.data['y_train']\n",
    "        else:\n",
    "            self.images = self.data['X_test'].numpy()\n",
    "            self.target = self.data['y_test']\n",
    "        \n",
    "    def __len__(self):\n",
    "        return len(self.target)\n",
    "\n",
    "    def __getitem__(self, idx):\n",
    "        image = self.images[idx]\n",
    "        target = self.target[idx]\n",
    "        #print('type image',type(image))\n",
    "        #print(image.shape)\n",
    "        #mage = Image.fromarray(np.uint8(image.reshape(8, 28).transpose((1,2,0))), 'RGB')\n",
    "        #Image = Image.fromarray(np.uint8(image.reshape(3, 32, 32).transpose((1,2,0))), 'RGB')\n",
    "\n",
    "        image = Image.fromarray(np.uint8(image), 'L')\n",
    "        \n",
    "        if self.transform:\n",
    "            image = self.transform(image)\n",
    "\n",
    "        return image, target"
   ]
  },
  {
   "cell_type": "code",
   "execution_count": 18,
   "metadata": {
    "collapsed": true
   },
   "outputs": [],
   "source": [
    "data_transforms = {\n",
    "    'train': transforms.Compose([\n",
    "        transforms.RandomHorizontalFlip(),\n",
    "        #transforms.RandomCrop(224),\n",
    "        transforms.ToTensor(),\n",
    "        #transforms.Normalize((0.1307,), (0.3081,))\n",
    "        transforms.Normalize((0.5, 0.5, 0.5), (0.5, 0.5, 0.5))\n",
    "    ]),\n",
    "    'test': transforms.Compose([\n",
    "        #transforms.CenterCrop(224),\n",
    "        transforms.ToTensor(),\n",
    "        #transforms.Normalize((0.1307,), (0.3081,))\n",
    "        transforms.Normalize((0.5, 0.5, 0.5), (0.5, 0.5, 0.5))\n",
    "    ])\n",
    "}\n",
    "\n",
    "no_transform = transforms.Compose([\n",
    "    transforms.ToTensor()\n",
    "])"
   ]
  },
  {
   "cell_type": "code",
   "execution_count": 19,
   "metadata": {
    "collapsed": true
   },
   "outputs": [],
   "source": [
    "mnist_redux_train = mnist_loader(data,train=True, transform=data_transforms['train'])\n"
   ]
  },
  {
   "cell_type": "code",
   "execution_count": 20,
   "metadata": {
    "collapsed": true
   },
   "outputs": [],
   "source": [
    "mnist_redux_test = mnist_loader(data,train=False, transform=data_transforms['test'])"
   ]
  },
  {
   "cell_type": "code",
   "execution_count": 21,
   "metadata": {},
   "outputs": [
    {
     "name": "stdout",
     "output_type": "stream",
     "text": [
      "length of training dataloader 200\n",
      "length of test dataloader 100\n"
     ]
    }
   ],
   "source": [
    "\n",
    "train_loader = torch.utils.data.DataLoader(data_train, batch_size=50, shuffle=True)\n",
    "test_loader = torch.utils.data.DataLoader(data_test, batch_size=50, shuffle=False)\n",
    "\n",
    "print('length of training dataloader', len(train_loader))\n",
    "print('length of test dataloader', len(test_loader))\n",
    "\n"
   ]
  },
  {
   "cell_type": "markdown",
   "metadata": {},
   "source": [
    "## Criando a rede com autoencoders"
   ]
  },
  {
   "cell_type": "code",
   "execution_count": 22,
   "metadata": {
    "collapsed": true
   },
   "outputs": [],
   "source": [
    "import torch.nn.functional as F\n",
    "\n",
    "class Net(torch.nn.Module):\n",
    "    def __init__(self):\n",
    "        super(Net, self).__init__()              \n",
    "        \n",
    "        self.input_dim = (28,28)\n",
    "        self.dense1 = tc.nn.Linear(28*28,512)\n",
    "        self.dense2 = tc.nn.Linear(512,128)\n",
    "        self.encoded = tc.nn.Linear(128,2)\n",
    "        # at this point the representation is 2-dimensional\n",
    "        self.dense3 = tc.nn.Linear(2,128)\n",
    "        self.dense4 = tc.nn.Linear(128,512)\n",
    "        self.decoded = tc.nn.Linear(512,28*28)\n",
    "        \n",
    "        #self.flatten = view(a.numel())\n",
    "\n",
    "    def forward(self, x):\n",
    "        \n",
    "        recon_x = x\n",
    "        x = x.view(x.size(0), -1)\n",
    "        x = F.relu(self.dense1(x))\n",
    "        x = F.relu(self.dense2(x))\n",
    "        x = self.encoded(x)\n",
    "        x = F.relu(self.dense3(x))\n",
    "        x = F.relu(self.dense4(x))\n",
    "        x = self.decoded(x)\n",
    "        \n",
    "        return x\n",
    "    \n",
    "    def num_flat_features(self, x):\n",
    "        size = x.size()[1:]  # all dimensions except the batch dimension\n",
    "        num_features = 1\n",
    "        for s in size:\n",
    "            num_features *= s\n",
    "        return num_features\n",
    "\n",
    "    "
   ]
  },
  {
   "cell_type": "code",
   "execution_count": 23,
   "metadata": {},
   "outputs": [
    {
     "name": "stdout",
     "output_type": "stream",
     "text": [
      "Net (\n",
      "  (dense1): Linear (784 -> 512)\n",
      "  (dense2): Linear (512 -> 128)\n",
      "  (encoded): Linear (128 -> 2)\n",
      "  (dense3): Linear (2 -> 128)\n",
      "  (dense4): Linear (128 -> 512)\n",
      "  (decoded): Linear (512 -> 784)\n",
      ")\n"
     ]
    }
   ],
   "source": [
    "autoencoder = Net()\n",
    "print(autoencoder)"
   ]
  },
  {
   "cell_type": "code",
   "execution_count": null,
   "metadata": {
    "collapsed": true
   },
   "outputs": [],
   "source": [
    "if use_gpu:\n",
    "    autoencoder.cuda()"
   ]
  },
  {
   "cell_type": "code",
   "execution_count": null,
   "metadata": {
    "collapsed": true
   },
   "outputs": [],
   "source": []
  },
  {
   "cell_type": "markdown",
   "metadata": {},
   "source": [
    "## Treinando o modelo"
   ]
  },
  {
   "cell_type": "code",
   "execution_count": 35,
   "metadata": {
    "collapsed": true
   },
   "outputs": [],
   "source": [
    "def exp_lr_scheduler(optimizer, epoch, init_lr=0.001, lr_decay_epoch=7):\n",
    "    \"\"\"Decay learning rate by a factor of 0.1 every lr_decay_epoch epochs.\"\"\"\n",
    "    lr = init_lr * (0.1**(epoch // lr_decay_epoch))\n",
    "\n",
    "    if epoch % lr_decay_epoch == 0:\n",
    "        print('LR is set to {}'.format(lr))\n",
    "\n",
    "    for param_group in optimizer.param_groups:\n",
    "        param_group['lr'] = lr\n",
    "\n",
    "    return optimizer"
   ]
  },
  {
   "cell_type": "code",
   "execution_count": 36,
   "metadata": {
    "collapsed": true
   },
   "outputs": [],
   "source": [
    "def train_model(model,dset_loaders, dset_sizes,\n",
    "                criterion, optimizer, lr_scheduler,\n",
    "                num_epochs=25, model_fn=None, reset=False):\n",
    "    \n",
    "    since = time.time()\n",
    "    #print('here')\n",
    "    if not reset and os.path.isfile(model_fn):\n",
    "        #model.load_state_dict(tc.load(model_fn))\n",
    "        print('Loading model %s' % model_fn)\n",
    "        model = tc.load(model_fn)\n",
    "    else:\n",
    "        print('Build model from init')\n",
    "    try:\n",
    "        best_model = copy.deepcopy(model)\n",
    "        best_epoch = 0\n",
    "        best_acc = 0.0\n",
    "\n",
    "        #print('here2')\n",
    "        for epoch in range(num_epochs):\n",
    "            start_epoch = time.time()\n",
    "            print('Epoch {}/{}'.format(epoch, num_epochs - 1))\n",
    "            print('-' * 10)\n",
    "\n",
    "            # Each epoch has a training and validation phase\n",
    "            for phase in ['train', 'val']:\n",
    "                if phase == 'train':\n",
    "                    optimizer = lr_scheduler(optimizer, epoch)\n",
    "                    model.train(True)  # Set model to training mode\n",
    "                else:\n",
    "                    model.train(False)  # Set model to evaluate mode\n",
    "\n",
    "                running_loss = 0.0\n",
    "                running_corrects = 0\n",
    "\n",
    "                # Iterate over data.\n",
    "                for k,data in enumerate(dset_loaders[phase]):\n",
    "                    if k > 500:\n",
    "                        break\n",
    "                    sys.stdout.write('%d/%d mini-batch: %s\\r' % (k,len(dset_loaders[phase]),phase))\n",
    "                    # get the inputs\n",
    "                    inputs, labels = data\n",
    "                    #$inputs, labels = Variable(inputs.cuda()), Variable(labels.cuda())\n",
    "                    \n",
    "                    # wrap them in Variable\n",
    "                    if use_gpu:\n",
    "                        #print('gpu')\n",
    "                        inputs, labels = Variable(inputs.cuda()),Variable(labels.cuda())\n",
    "                    else:\n",
    "                        inputs, labels = Variable(inputs), Variable(labels)\n",
    "                                        # zero the parameter gradients\n",
    "                    input_x = inputs.view(-1, 28*28)   # batch x, shape (batch, 28*28)\n",
    "                    input_y = inputs.view(-1, 28*28)   # batch y, shape (batch, 28*28)\n",
    "                    #inputs_y = inputs\n",
    "                    \n",
    "                    #print(inputs.size())\n",
    "                    \n",
    "                    #outputs = model(input_x)\n",
    "                    outputs = model(inputs).view(inputs.data.shape)    \n",
    "                    preds = outputs.data\n",
    "                    '''\n",
    "                    loss = loss_func(decoded, b_y)      # mean square error\n",
    "                    optimizer.zero_grad()               # clear gradients for this training step\n",
    "                    loss.backward()                     # backpropagation, compute gradients\n",
    "                    optimizer.step()\n",
    "                    '''\n",
    "                    #inputs = inputs.view(28*28)\n",
    "                \n",
    "                    #loss = criterion(outputs, inputs)\n",
    "                    loss = tc.nn.MSELoss()(outputs,input_y)\n",
    "                    optimizer.zero_grad()\n",
    "                    if phase == 'train':\n",
    "                        loss.backward()\n",
    "                        optimizer.step()\n",
    "                     #target = autograd.Variable(torch.LongTensor(3).random_(2))\n",
    "                    #>>> loss = F.binary_cross_entropy(F.sigmoid(input), target)\n",
    "                    \n",
    "                    \n",
    "                    # statistics\n",
    "                    running_loss += loss.data[0]\n",
    "                    #running_corrects += tc.sum(preds == labels.data)\n",
    "\n",
    "                epoch_loss = running_loss / dset_sizes[phase]\n",
    "                #epoch_acc = running_corrects / dset_sizes[phase]\n",
    "\n",
    "                time_epoch = time.time() - start_epoch\n",
    "               # print('{}({:.1f}s) Loss: {:.4f} Acc: {:.4f}'.format(phase, time_epoch, epoch_loss, epoch_acc))\n",
    "                print('{}({:.1f}s) Loss: {:.4f}'.format(phase, time_epoch, epoch_loss))\n",
    "\n",
    "               # # deep copy the model\n",
    "                #if phase == 'val' and epoch_acc > best_acc:\n",
    "                 #   best_acc = epoch_acc\n",
    "                  #  best_epoch = epoch\n",
    "                    #best_model = copy.deepcopy(model)\n",
    "\n",
    "            print()\n",
    "    except  KeyboardInterrupt:\n",
    "        print('Interrupted!!')\n",
    "    \n",
    "    if model_fn:\n",
    "        tc.save(best_model, model_fn)\n",
    "    \n",
    "    time_elapsed = time.time() - since\n",
    "    print('Training complete in {:.0f}m {:.0f}s'.format(\n",
    "        time_elapsed // 60, time_elapsed % 60))\n",
    "    print('Best val Acc: {:4f} at epoch: {}'.format(best_acc,best_epoch))\n",
    "    return best_model"
   ]
  },
  {
   "cell_type": "code",
   "execution_count": 37,
   "metadata": {
    "collapsed": true
   },
   "outputs": [],
   "source": [
    "def train_2(model,data_loader,criterion,optimizer,num_epochs=25):\n",
    "    \n",
    "    since = time.time()\n",
    "    \n",
    "    for epoch in range(num_epochs):\n",
    "        start_epoch = time.time()\n",
    "        print('Epoch {}/{}'.format(epoch, num_epochs - 1))\n",
    "        print('-' * 10)\n",
    "\n",
    "        running_loss = 0.0\n",
    "\n",
    "        # Iterate over data.\n",
    "        for k,data in enumerate(data_loader):\n",
    "            if k > 500:\n",
    "                break\n",
    "            sys.stdout.write('%d/%d mini-batch: \\r' % (k,len(data_loader)))\n",
    "\n",
    "            # get the inputs\n",
    "            inputs, labels = data\n",
    "\n",
    "            # wrap them in Variable\n",
    "            if use_gpu:\n",
    "                #print('gpu')\n",
    "                inputs, labels = Variable(inputs.cuda()),Variable(labels.cuda())\n",
    "            else:\n",
    "                inputs, labels = Variable(inputs), Variable(labels)\n",
    "\n",
    "            #Reshape nas entradas\n",
    "            input_x = inputs.view(-1, 28*28)   # batch x, shape (batch, 28*28)\n",
    "            input_y = inputs.view(-1, 28*28)   # batch y, shape (batch, 28*28)\n",
    "\n",
    "            #Decodifico com a minha rede autoencoder\n",
    "            #output = model(inp).view(inp.data.shape)\n",
    "            outputs=model(inputs).view(inputs.data.shape)\n",
    "            #outputs = model(input_x)\n",
    "\n",
    "            #Defino a função de perda\n",
    "            loss = criterion(outputs, input_y)\n",
    "\n",
    "            #Zero os valores dos gradients\n",
    "            optimizer.zero_grad()\n",
    "\n",
    "            #Propago o erro na função loss\n",
    "            loss.backward()\n",
    "\n",
    "            # Dá o passo do optimizer\n",
    "            optimizer.step()\n",
    "\n",
    "\n",
    "\n",
    "            # statistics\n",
    "            running_loss += loss.data[0]\n",
    "\n",
    "            epoch_loss = running_loss / len(data_loader)\n",
    "\n",
    "            time_epoch = time.time() - start_epoch\n",
    "          \n",
    "        print('({:.1f}s) Loss: {:.4f}'.format(time_epoch, epoch_loss))\n",
    "        print()\n",
    "  #  except  KeyboardInterrupt:\n",
    "   #     print('Interrupted!!')\n",
    "        \n",
    "    time_elapsed = time.time() - since\n",
    "    print('Training complete in {:.0f}m {:.0f}s'.format(time_elapsed // 60, time_elapsed % 60))\n",
    "    return 0"
   ]
  },
  {
   "cell_type": "code",
   "execution_count": 38,
   "metadata": {
    "collapsed": true
   },
   "outputs": [],
   "source": [
    "LR = 0.005 \n",
    "criterion = tc.nn.MSELoss(size_average=True)\n",
    "optimizer_ft = optim.Adam(autoencoder.parameters(), lr=LR)\n"
   ]
  },
  {
   "cell_type": "code",
   "execution_count": 39,
   "metadata": {
    "collapsed": true
   },
   "outputs": [],
   "source": [
    "# Empty dict\n",
    "new_dict = {}\n",
    "# Fill in the entries one by one\n",
    "new_dict[\"train\"] = mnist_redux_train\n",
    "\n",
    "new_dict['val'] = mnist_redux_test"
   ]
  },
  {
   "cell_type": "code",
   "execution_count": 40,
   "metadata": {},
   "outputs": [
    {
     "name": "stdout",
     "output_type": "stream",
     "text": [
      "{'train': 5000, 'val': 5000}\n"
     ]
    }
   ],
   "source": [
    "new_dict_sizes = {x: len(new_dict[x]) for x in ['train', 'val']}\n",
    "print(new_dict_sizes)"
   ]
  },
  {
   "cell_type": "code",
   "execution_count": 41,
   "metadata": {},
   "outputs": [
    {
     "name": "stdout",
     "output_type": "stream",
     "text": [
      "a sizea torch.Size([2, 3])\n"
     ]
    }
   ],
   "source": [
    "a = torch.rand(2,3)\n",
    "print('a sizea',a.size())"
   ]
  },
  {
   "cell_type": "code",
   "execution_count": 42,
   "metadata": {
    "collapsed": true
   },
   "outputs": [],
   "source": [
    "import sys\n",
    "sys.executable\n",
    "from datetime import datetime"
   ]
  },
  {
   "cell_type": "code",
   "execution_count": 43,
   "metadata": {},
   "outputs": [
    {
     "name": "stdout",
     "output_type": "stream",
     "text": [
      "Time spent 0:00:00.000103\n"
     ]
    }
   ],
   "source": [
    "tstart = datetime.now()\n",
    "\n",
    "tend = datetime.now()\n",
    "print ('Time spent',tend - tstart)"
   ]
  },
  {
   "cell_type": "code",
   "execution_count": 44,
   "metadata": {},
   "outputs": [
    {
     "name": "stdout",
     "output_type": "stream",
     "text": [
      "cda\n"
     ]
    }
   ],
   "source": [
    "print('cda')"
   ]
  },
  {
   "cell_type": "code",
   "execution_count": 140,
   "metadata": {},
   "outputs": [
    {
     "name": "stdout",
     "output_type": "stream",
     "text": [
      "Build model from init\n",
      "Epoch 0/44\n",
      "----------\n",
      "LR is set to 0.001\n",
      "train(1.3s) Loss: 0.0210in\n",
      "val(1.3s) Loss: 0.0000\n",
      "\n",
      "Epoch 1/44\n",
      "----------\n",
      "train(1.3s) Loss: 0.0207in\n",
      "val(1.3s) Loss: 0.0000\n",
      "\n",
      "Epoch 2/44\n",
      "----------\n",
      "train(1.3s) Loss: 0.0201in\n",
      "val(1.3s) Loss: 0.0000\n",
      "\n",
      "Epoch 3/44\n",
      "----------\n",
      "train(1.2s) Loss: 0.0201in\n",
      "val(1.2s) Loss: 0.0000\n",
      "\n",
      "Epoch 4/44\n",
      "----------\n",
      "train(1.2s) Loss: 0.0199in\n",
      "val(1.2s) Loss: 0.0000\n",
      "\n",
      "Epoch 5/44\n",
      "----------\n",
      "train(1.2s) Loss: 0.0198in\n",
      "val(1.2s) Loss: 0.0000\n",
      "\n",
      "Epoch 6/44\n",
      "----------\n",
      "train(1.2s) Loss: 0.0196in\n",
      "val(1.2s) Loss: 0.0000\n",
      "\n",
      "Epoch 7/44\n",
      "----------\n",
      "LR is set to 0.0001\n",
      "train(1.2s) Loss: 0.0189in\n",
      "val(1.2s) Loss: 0.0000\n",
      "\n",
      "Epoch 8/44\n",
      "----------\n",
      "train(1.2s) Loss: 0.0185in\n",
      "val(1.2s) Loss: 0.0000\n",
      "\n",
      "Epoch 9/44\n",
      "----------\n",
      "train(1.1s) Loss: 0.0183in\n",
      "val(1.1s) Loss: 0.0000\n",
      "\n",
      "Epoch 10/44\n",
      "----------\n",
      "train(1.1s) Loss: 0.0182in\n",
      "val(1.1s) Loss: 0.0000\n",
      "\n",
      "Epoch 11/44\n",
      "----------\n",
      "train(1.2s) Loss: 0.0181in\n",
      "val(1.2s) Loss: 0.0000\n",
      "\n",
      "Epoch 12/44\n",
      "----------\n",
      "train(1.2s) Loss: 0.0181in\n",
      "val(1.2s) Loss: 0.0000\n",
      "\n",
      "Epoch 13/44\n",
      "----------\n",
      "train(1.2s) Loss: 0.0181in\n",
      "val(1.2s) Loss: 0.0000\n",
      "\n",
      "Epoch 14/44\n",
      "----------\n",
      "LR is set to 1.0000000000000003e-05\n",
      "train(1.2s) Loss: 0.0180in\n",
      "val(1.2s) Loss: 0.0000\n",
      "\n",
      "Epoch 15/44\n",
      "----------\n",
      "train(1.2s) Loss: 0.0179in\n",
      "val(1.2s) Loss: 0.0000\n",
      "\n",
      "Epoch 16/44\n",
      "----------\n",
      "train(1.1s) Loss: 0.0180in\n",
      "val(1.1s) Loss: 0.0000\n",
      "\n",
      "Epoch 17/44\n",
      "----------\n",
      "train(1.1s) Loss: 0.0179in\n",
      "val(1.1s) Loss: 0.0000\n",
      "\n",
      "Epoch 18/44\n",
      "----------\n",
      "train(1.1s) Loss: 0.0178in\n",
      "val(1.1s) Loss: 0.0000\n",
      "\n",
      "Epoch 19/44\n",
      "----------\n",
      "train(1.1s) Loss: 0.0179in\n",
      "val(1.1s) Loss: 0.0000\n",
      "\n",
      "Epoch 20/44\n",
      "----------\n",
      "train(1.1s) Loss: 0.0178in\n",
      "val(1.1s) Loss: 0.0000\n",
      "\n",
      "Epoch 21/44\n",
      "----------\n",
      "LR is set to 1.0000000000000002e-06\n",
      "train(1.1s) Loss: 0.0178in\n",
      "val(1.1s) Loss: 0.0000\n",
      "\n",
      "Epoch 22/44\n",
      "----------\n",
      "train(1.1s) Loss: 0.0178in\n",
      "val(1.1s) Loss: 0.0000\n",
      "\n",
      "Epoch 23/44\n",
      "----------\n",
      "train(1.2s) Loss: 0.0179in\n",
      "val(1.2s) Loss: 0.0000\n",
      "\n",
      "Epoch 24/44\n",
      "----------\n",
      "train(1.2s) Loss: 0.0178in\n",
      "val(1.2s) Loss: 0.0000\n",
      "\n",
      "Epoch 25/44\n",
      "----------\n",
      "train(1.2s) Loss: 0.0179in\n",
      "val(1.2s) Loss: 0.0000\n",
      "\n",
      "Epoch 26/44\n",
      "----------\n",
      "train(1.2s) Loss: 0.0178in\n",
      "val(1.2s) Loss: 0.0000\n",
      "\n",
      "Epoch 27/44\n",
      "----------\n",
      "train(1.2s) Loss: 0.0178in\n",
      "val(1.2s) Loss: 0.0000\n",
      "\n",
      "Epoch 28/44\n",
      "----------\n",
      "LR is set to 1.0000000000000002e-07\n",
      "train(1.2s) Loss: 0.0179in\n",
      "val(1.2s) Loss: 0.0000\n",
      "\n",
      "Epoch 29/44\n",
      "----------\n",
      "train(1.2s) Loss: 0.0179in\n",
      "val(1.2s) Loss: 0.0000\n",
      "\n",
      "Epoch 30/44\n",
      "----------\n",
      "train(1.2s) Loss: 0.0178in\n",
      "val(1.2s) Loss: 0.0000\n",
      "\n",
      "Epoch 31/44\n",
      "----------\n",
      "train(1.2s) Loss: 0.0178in\n",
      "val(1.2s) Loss: 0.0000\n",
      "\n",
      "Epoch 32/44\n",
      "----------\n",
      "train(1.2s) Loss: 0.0179in\n",
      "val(1.2s) Loss: 0.0000\n",
      "\n",
      "Epoch 33/44\n",
      "----------\n",
      "train(1.2s) Loss: 0.0179in\n",
      "val(1.2s) Loss: 0.0000\n",
      "\n",
      "Epoch 34/44\n",
      "----------\n",
      "train(1.2s) Loss: 0.0178in\n",
      "val(1.2s) Loss: 0.0000\n",
      "\n",
      "Epoch 35/44\n",
      "----------\n",
      "LR is set to 1.0000000000000004e-08\n",
      "train(1.2s) Loss: 0.0178in\n",
      "val(1.2s) Loss: 0.0000\n",
      "\n",
      "Epoch 36/44\n",
      "----------\n",
      "train(1.2s) Loss: 0.0178in\n",
      "val(1.2s) Loss: 0.0000\n",
      "\n",
      "Epoch 37/44\n",
      "----------\n",
      "train(1.1s) Loss: 0.0178in\n",
      "val(1.1s) Loss: 0.0000\n",
      "\n",
      "Epoch 38/44\n",
      "----------\n",
      "train(1.1s) Loss: 0.0178in\n",
      "val(1.2s) Loss: 0.0000\n",
      "\n",
      "Epoch 39/44\n",
      "----------\n",
      "train(1.2s) Loss: 0.0178in\n",
      "val(1.2s) Loss: 0.0000\n",
      "\n",
      "Epoch 40/44\n",
      "----------\n",
      "train(1.1s) Loss: 0.0178in\n",
      "val(1.1s) Loss: 0.0000\n",
      "\n",
      "Epoch 41/44\n",
      "----------\n",
      "train(1.1s) Loss: 0.0179in\n",
      "val(1.1s) Loss: 0.0000\n",
      "\n",
      "Epoch 42/44\n",
      "----------\n",
      "LR is set to 1.0000000000000005e-09\n",
      "train(1.1s) Loss: 0.0179in\n",
      "val(1.1s) Loss: 0.0000\n",
      "\n",
      "Epoch 43/44\n",
      "----------\n",
      "train(1.1s) Loss: 0.0179in\n",
      "val(1.1s) Loss: 0.0000\n",
      "\n",
      "Epoch 44/44\n",
      "----------\n",
      "train(1.1s) Loss: 0.0178in\n",
      "val(1.1s) Loss: 0.0000\n",
      "\n",
      "Training complete in 0m 52s\n",
      "Best val Acc: 0.000000 at epoch: 0\n",
      "Time spent 0:00:52.165546\n"
     ]
    }
   ],
   "source": [
    "tstart = datetime.now()\n",
    "\n",
    "model_ft = train_model(autoencoder, new_dict,new_dict_sizes,criterion, optimizer_ft, exp_lr_scheduler,\n",
    "                       num_epochs=45,\n",
    "                       model_fn=None, \n",
    "                    reset=True)\n",
    "\n",
    "tend = datetime.now()\n",
    "print ('Time spent',tend - tstart)"
   ]
  },
  {
   "cell_type": "markdown",
   "metadata": {},
   "source": [
    "tstart = datetime.now()\n",
    "\n",
    "\n",
    "train_2(autoencoder,train_loader,criterion,optimizer_ft,num_epochs=25)\n",
    "\n",
    "tend = datetime.now()\n",
    "print ('Time spent',tend - tstart)"
   ]
  },
  {
   "cell_type": "code",
   "execution_count": 46,
   "metadata": {
    "collapsed": true
   },
   "outputs": [],
   "source": [
    "%matplotlib inline\n",
    "import matplotlib.pyplot as plot"
   ]
  },
  {
   "cell_type": "code",
   "execution_count": 64,
   "metadata": {},
   "outputs": [
    {
     "name": "stdout",
     "output_type": "stream",
     "text": [
      "torch.Size([1, 28, 28])\n"
     ]
    },
    {
     "ename": "ValueError",
     "evalue": "cannot copy sequence with size 28 to array axis with dimension 2",
     "output_type": "error",
     "traceback": [
      "\u001b[0;31m---------------------------------------------------------------------------\u001b[0m",
      "\u001b[0;31mValueError\u001b[0m                                Traceback (most recent call last)",
      "\u001b[0;32m<ipython-input-64-e04bd27c62b8>\u001b[0m in \u001b[0;36m<module>\u001b[0;34m()\u001b[0m\n\u001b[1;32m     25\u001b[0m                 \u001b[0;31m#outputs = autoencoder(inputs)\u001b[0m\u001b[0;34m\u001b[0m\u001b[0;34m\u001b[0m\u001b[0m\n\u001b[1;32m     26\u001b[0m \u001b[0;34m\u001b[0m\u001b[0m\n\u001b[0;32m---> 27\u001b[0;31m                 \u001b[0mvector\u001b[0m\u001b[0;34m[\u001b[0m\u001b[0mi\u001b[0m\u001b[0;34m]\u001b[0m \u001b[0;34m=\u001b[0m \u001b[0moutputs\u001b[0m\u001b[0;34m\u001b[0m\u001b[0m\n\u001b[0m\u001b[1;32m     28\u001b[0m                 \u001b[0mvector_labels\u001b[0m\u001b[0;34m[\u001b[0m\u001b[0mi\u001b[0m\u001b[0;34m]\u001b[0m \u001b[0;34m=\u001b[0m \u001b[0mlab_2\u001b[0m\u001b[0;34m\u001b[0m\u001b[0m\n\u001b[1;32m     29\u001b[0m \u001b[0;34m\u001b[0m\u001b[0m\n",
      "\u001b[0;31mValueError\u001b[0m: cannot copy sequence with size 28 to array axis with dimension 2"
     ]
    },
    {
     "data": {
      "text/plain": [
       "<matplotlib.figure.Figure at 0x7f7df8c06d30>"
      ]
     },
     "metadata": {},
     "output_type": "display_data"
    }
   ],
   "source": []
  },
  {
   "cell_type": "code",
   "execution_count": 144,
   "metadata": {},
   "outputs": [
    {
     "data": {
      "image/png": "[encoded data removed]",
      "text/plain": [
       "<matplotlib.figure.Figure at 0x7f7e06423fd0>"
      ]
     },
     "metadata": {},
     "output_type": "display_data"
    }
   ],
   "source": [
    "n = 10\n",
    "plot.figure(figsize=(20, 4))\n",
    "plot.gray()\n",
    "lista = []\n",
    "for k,data in enumerate(new_dict['train']):\n",
    " \n",
    "    if k > 9:\n",
    "        break\n",
    "    inputs, labels = data\n",
    "\n",
    "    #print('inputs size',inputs.size())\n",
    "    autoencoder.train(True)\n",
    "    if use_gpu:\n",
    "\n",
    "        inputs, labels = Variable(inputs.cuda()),Variable(labels.cuda())\n",
    "    else:\n",
    "        inputs, labels = Variable(inputs), Variable(labels)\n",
    "    \n",
    "    #print(inputs.data.cpu().numpy().shape)\n",
    "    #Reshape nas entradas\n",
    "    input_x = inputs.view(-1, 28*28)   # batch x, shape (batch, 28*28)\n",
    "    #input_y = inputs.view(-1, 28*28)   # batch y, shape (batch, 28*28)\n",
    "    #outputs=autoencoder(input_x)\n",
    "    outputs = autoencoder(inputs).view(inputs.data.shape)\n",
    "    #outputs = autoencoder(inputs)\n",
    "    lista.append(outputs.data.cpu().numpy())\n",
    "    \n",
    "\n",
    "    \n",
    "    # display inputs\n",
    "    ax = plot.subplot(2, n, k+1)\n",
    "    plot.imshow(inputs.data.cpu().numpy().reshape(28, 28))\n",
    "    plot.axis('off')\n",
    "\n",
    "    # display reconstruction\n",
    "    ax = plot.subplot(2, n, k+n+1)\n",
    "    plot.imshow(outputs.data.cpu().numpy().reshape(28, 28))\n",
    "    plot.axis('off')\n",
    "    "
   ]
  },
  {
   "cell_type": "markdown",
   "metadata": {
    "collapsed": true
   },
   "source": [
    "## Mostra plot 2D das classes, no espaço codificado"
   ]
  },
  {
   "cell_type": "code",
   "execution_count": 65,
   "metadata": {},
   "outputs": [
    {
     "name": "stdout",
     "output_type": "stream",
     "text": [
      "Sequential (\n",
      "  (0): Linear (784 -> 512)\n",
      "  (1): Linear (512 -> 128)\n",
      "  (2): Linear (128 -> 2)\n",
      ")\n"
     ]
    }
   ],
   "source": [
    "encoder = tc.nn.Sequential(*list(autoencoder.children())[:-3])\n",
    "encoder=encoder.cuda()\n",
    "print(encoder)"
   ]
  },
  {
   "cell_type": "code",
   "execution_count": 154,
   "metadata": {},
   "outputs": [
    {
     "name": "stdout",
     "output_type": "stream",
     "text": [
      "5000\n",
      "5000\n"
     ]
    }
   ],
   "source": [
    "vector=[]\n",
    "vector_labels=[]\n",
    "m=200\n",
    "for k,data in enumerate(test_loader):\n",
    "    if k<m:\n",
    "        inputs,label = data\n",
    "        i=0\n",
    "\n",
    "        for inp,lab in zip(inputs,label):\n",
    "\n",
    "            encoder.train(True)\n",
    "            if use_gpu:\n",
    "                inp_2 = Variable(inp.cuda())\n",
    "                lab_2 = label\n",
    "\n",
    "                #inp_2, lab_2 = Variable(inp.cuda()),Variable(lab.cuda())\n",
    "            else:\n",
    "                inp_2, lab_2 = Variable(inp), label\n",
    "\n",
    "            #print(inputs.size())\n",
    "            input_x = inp_2.view(-1, 28*28)  \n",
    "            outputs = encoder(input_x)\n",
    "            #outputs = encoder(inp_2).view(inp_2.data.shape)\n",
    "            #print(outputs.size())\n",
    "            #outputs = autoencoder(inputs)\n",
    "\n",
    "            vector.append(outputs.data.cpu().numpy())\n",
    "\n",
    "            vector_labels.append(lab_2.numpy()[i])\n",
    "\n",
    "            i=i+1\n",
    "            \n",
    "print(len(vector))\n",
    "print(len(vector_labels))"
   ]
  },
  {
   "cell_type": "code",
   "execution_count": 157,
   "metadata": {},
   "outputs": [
    {
     "name": "stdout",
     "output_type": "stream",
     "text": [
      "[-0.72086191  2.11378741]\n"
     ]
    }
   ],
   "source": [
    "print(vector[0])"
   ]
  },
  {
   "cell_type": "code",
   "execution_count": 155,
   "metadata": {},
   "outputs": [
    {
     "name": "stdout",
     "output_type": "stream",
     "text": [
      "(5000, 2)\n",
      "(5000,)\n"
     ]
    }
   ],
   "source": [
    "vector=np.array(vector).reshape(len(vector),2)\n",
    "vector_labels=np.array(vector_labels)\n",
    "print(vector.shape)\n",
    "print(vector_labels.shape)\n"
   ]
  },
  {
   "cell_type": "code",
   "execution_count": 156,
   "metadata": {},
   "outputs": [
    {
     "data": {
      "image/png": "[encoded data removed]",
      "text/plain": [
       "<matplotlib.figure.Figure at 0x7f7df8a0bba8>"
      ]
     },
     "metadata": {},
     "output_type": "display_data"
    }
   ],
   "source": [
    "\n",
    "plot.figure(figsize=(7, 6))\n",
    "\n",
    "plot.scatter(vector[:, 0], vector[:,1], c=vector_labels, cmap=plot.cm.tab10)\n",
    "\n",
    "plot.colorbar();"
   ]
  }
 ],
 "metadata": {
  "kernelspec": {
   "display_name": "Python 3",
   "language": "python",
   "name": "python3"
  },
  "language_info": {
   "codemirror_mode": {
    "name": "ipython",
    "version": 3
   },
   "file_extension": ".py",
   "mimetype": "text/x-python",
   "name": "python",
   "nbconvert_exporter": "python",
   "pygments_lexer": "ipython3",
   "version": "3.6.0"
  }
 },
 "nbformat": 4,
 "nbformat_minor": 2
}
