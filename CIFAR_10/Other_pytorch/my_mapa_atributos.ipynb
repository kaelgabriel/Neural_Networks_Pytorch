{
 "cells": [
  {
   "cell_type": "markdown",
   "metadata": {
    "toc": "true"
   },
   "source": []
  },
  {
   "cell_type": "code",
   "execution_count": 1,
   "metadata": {
    "ExecuteTime": {
     "end_time": "2017-05-09T21:04:29.133222",
     "start_time": "2017-05-09T21:04:27.097370"
    }
   },
   "outputs": [],
   "source": [
    "import numpy as np\n",
    "from sklearn.datasets import load_iris\n",
    "import matplotlib.pyplot as plt\n",
    "%matplotlib inline\n",
    "import pandas as pd\n",
    "from IPython.display import display"
   ]
  },
  {
   "cell_type": "code",
   "execution_count": 2,
   "metadata": {
    "collapsed": true
   },
   "outputs": [],
   "source": [
    "import torch\n",
    "from torch.autograd import Variable\n",
    "import torch.optim as optim\n",
    "from sklearn.datasets import load_iris\n"
   ]
  },
  {
   "cell_type": "code",
   "execution_count": 3,
   "metadata": {
    "collapsed": true
   },
   "outputs": [],
   "source": [
    "def oneHotIt_tensor(Y, n_classes):\n",
    "    ones = torch.sparse.torch.eye(n_classes)\n",
    "    return ones.index_select(0,Y)\n",
    "\n",
    "def softmax(Z):\n",
    "    # computes softmax for all samples, normalize among classes (columns)\n",
    "    # input Z: scores; shape: samples rows x classes columns\n",
    "    # output S: same shape of input\n",
    "    EZ = torch.exp(Z)\n",
    "    S = EZ / torch.sum(EZ,1,keepdim=True) # normaliza nas classes - colunas\n",
    "    return S\n",
    "\n",
    "def predict(X,WT):\n",
    "    Y_oh_hat = softmax(X.mm(WT))\n",
    "    # escolhe a maior probabilidade entre as classes\n",
    "    # maxs, indices = torch.max(x, [dim])\n",
    "\n",
    "    val,Y_hat = torch.max(Y_oh_hat,1) # mantém o resultado como matriz bidimensional\n",
    "    return val,Y_hat\n",
    "\n",
    "\n",
    "\n",
    "\n",
    "\n",
    "\n",
    "\n",
    "def getAccuracy(X,WT, Y):\n",
    "    a,Y_hat = predict(X,WT)\n",
    "    #print(type(a))\n",
    "    #print(type(Y_hat))\n",
    "    \n",
    "    accuracy = sum(Y_hat == Y)/(float(len(Y)))\n",
    "    return accuracy"
   ]
  },
  {
   "cell_type": "code",
   "execution_count": 4,
   "metadata": {
    "ExecuteTime": {
     "end_time": "2017-05-09T21:04:29.952518",
     "start_time": "2017-05-09T21:04:29.939851"
    }
   },
   "outputs": [
    {
     "name": "stdout",
     "output_type": "stream",
     "text": [
      "X.shape: (150, 2)\n",
      "Y.shape: (150,)\n"
     ]
    }
   ],
   "source": [
    "iris = load_iris()\n",
    "X = iris.data[:,::2]  # comprimento das sépalas e pétalas, indices 0 e 2\n",
    "Y = iris.target\n",
    "print('X.shape:',X.shape)\n",
    "print('Y.shape:',Y.shape)"
   ]
  },
  {
   "cell_type": "code",
   "execution_count": 5,
   "metadata": {
    "ExecuteTime": {
     "end_time": "2017-05-09T21:04:31.858907",
     "start_time": "2017-05-09T21:04:31.833477"
    }
   },
   "outputs": [
    {
     "name": "stdout",
     "output_type": "stream",
     "text": [
      "Imprimindo primeiros 5 amostras\n"
     ]
    },
    {
     "data": {
      "text/html": [
       "<div>\n",
       "<table border=\"1\" class=\"dataframe\">\n",
       "  <thead>\n",
       "    <tr style=\"text-align: right;\">\n",
       "      <th>classe</th>\n",
       "      <th>comprimento sepalas</th>\n",
       "      <th>comprimento petalas</th>\n",
       "    </tr>\n",
       "  </thead>\n",
       "  <tbody>\n",
       "    <tr>\n",
       "      <th>0</th>\n",
       "      <td>5.1</td>\n",
       "      <td>1.4</td>\n",
       "    </tr>\n",
       "    <tr>\n",
       "      <th>0</th>\n",
       "      <td>4.9</td>\n",
       "      <td>1.4</td>\n",
       "    </tr>\n",
       "    <tr>\n",
       "      <th>0</th>\n",
       "      <td>4.7</td>\n",
       "      <td>1.3</td>\n",
       "    </tr>\n",
       "    <tr>\n",
       "      <th>0</th>\n",
       "      <td>4.6</td>\n",
       "      <td>1.5</td>\n",
       "    </tr>\n",
       "    <tr>\n",
       "      <th>0</th>\n",
       "      <td>5.0</td>\n",
       "      <td>1.4</td>\n",
       "    </tr>\n",
       "  </tbody>\n",
       "</table>\n",
       "</div>"
      ],
      "text/plain": [
       "classe  comprimento sepalas  comprimento petalas\n",
       "0                       5.1                  1.4\n",
       "0                       4.9                  1.4\n",
       "0                       4.7                  1.3\n",
       "0                       4.6                  1.5\n",
       "0                       5.0                  1.4"
      ]
     },
     "metadata": {},
     "output_type": "display_data"
    },
    {
     "name": "stdout",
     "output_type": "stream",
     "text": [
      "Imprimindo 5 últimas amostras\n"
     ]
    },
    {
     "data": {
      "text/html": [
       "<div>\n",
       "<table border=\"1\" class=\"dataframe\">\n",
       "  <thead>\n",
       "    <tr style=\"text-align: right;\">\n",
       "      <th>classe</th>\n",
       "      <th>comprimento sepalas</th>\n",
       "      <th>comprimento petalas</th>\n",
       "    </tr>\n",
       "  </thead>\n",
       "  <tbody>\n",
       "    <tr>\n",
       "      <th>2</th>\n",
       "      <td>6.7</td>\n",
       "      <td>5.2</td>\n",
       "    </tr>\n",
       "    <tr>\n",
       "      <th>2</th>\n",
       "      <td>6.3</td>\n",
       "      <td>5.0</td>\n",
       "    </tr>\n",
       "    <tr>\n",
       "      <th>2</th>\n",
       "      <td>6.5</td>\n",
       "      <td>5.2</td>\n",
       "    </tr>\n",
       "    <tr>\n",
       "      <th>2</th>\n",
       "      <td>6.2</td>\n",
       "      <td>5.4</td>\n",
       "    </tr>\n",
       "    <tr>\n",
       "      <th>2</th>\n",
       "      <td>5.9</td>\n",
       "      <td>5.1</td>\n",
       "    </tr>\n",
       "  </tbody>\n",
       "</table>\n",
       "</div>"
      ],
      "text/plain": [
       "classe  comprimento sepalas  comprimento petalas\n",
       "2                       6.7                  5.2\n",
       "2                       6.3                  5.0\n",
       "2                       6.5                  5.2\n",
       "2                       6.2                  5.4\n",
       "2                       5.9                  5.1"
      ]
     },
     "metadata": {},
     "output_type": "display_data"
    }
   ],
   "source": [
    "# Assuming that dataframes df1 and df2 are already defined:\n",
    "df = pd.DataFrame(X, index=Y, columns=['comprimento sepalas','comprimento petalas'])\n",
    "df.columns.name = 'classe'\n",
    "print('Imprimindo primeiros 5 amostras')\n",
    "display(df.head()) # imprime o começo da tabela\n",
    "print('Imprimindo 5 últimas amostras')\n",
    "display(df.tail()) # imprime o final"
   ]
  },
  {
   "cell_type": "code",
   "execution_count": 6,
   "metadata": {
    "ExecuteTime": {
     "end_time": "2017-05-09T21:04:33.673431",
     "start_time": "2017-05-09T21:04:33.377257"
    }
   },
   "outputs": [
    {
     "data": {
      "image/png": "[encoded data removed]",
      "text/plain": [
       "<matplotlib.figure.Figure at 0x7f91dd0d55f8>"
      ]
     },
     "metadata": {},
     "output_type": "display_data"
    }
   ],
   "source": [
    "colors = np.array(['r','y','b'])\n",
    "plt.scatter(X[:, 0], X[:, 1], c=colors[Y])\n",
    "plt.xlabel('Comprimento sepalas')\n",
    "plt.ylabel('Comprimento petalas')\n",
    "plt.show()"
   ]
  },
  {
   "cell_type": "markdown",
   "metadata": {},
   "source": [
    "## Visualizando o dataset\n",
    "\n",
    "Como feito no notebook passado, as amostras são visualizadas com o `scatter`. A cor de cada amostra é selecionada pela sua classe: 0: red, 1: yellow: 2: blue. A cor é indexada pelo vetor `Y` das classes."
   ]
  },
  {
   "cell_type": "code",
   "execution_count": 7,
   "metadata": {
    "ExecuteTime": {
     "end_time": "2017-05-09T21:04:35.233952",
     "start_time": "2017-05-09T21:04:35.228895"
    },
    "collapsed": true
   },
   "outputs": [],
   "source": [
    "# normalização global - não deve ser usada\n",
    "X_a = X - X.min()\n",
    "X_a /= X_a.max()\n",
    "\n",
    "# normalização correta - por coluna\n",
    "X_c = X - X.min(axis=0,keepdims=True)\n",
    "X_c /= X_c.max(axis=0,keepdims=True)"
   ]
  },
  {
   "cell_type": "markdown",
   "metadata": {},
   "source": [
    "## Visualização dados normalizados"
   ]
  },
  {
   "cell_type": "code",
   "execution_count": 8,
   "metadata": {
    "ExecuteTime": {
     "end_time": "2017-05-09T21:04:37.253935",
     "start_time": "2017-05-09T21:04:36.835163"
    }
   },
   "outputs": [
    {
     "data": {
      "text/plain": [
       "<matplotlib.text.Text at 0x7f91dab38908>"
      ]
     },
     "execution_count": 8,
     "metadata": {},
     "output_type": "execute_result"
    },
    {
     "data": {
      "image/png": "[encoded data removed]",
      "text/plain": [
       "<matplotlib.figure.Figure at 0x7f91dac7c1d0>"
      ]
     },
     "metadata": {},
     "output_type": "display_data"
    }
   ],
   "source": [
    "f, (ax1, ax2) = plt.subplots(1, 2, sharey=False)\n",
    "ax1.set_ylim(0,1)\n",
    "ax1.set_xlim(0,1)\n",
    "ax2.set_ylim(0,1)\n",
    "ax2.set_xlim(0,1)\n",
    "ax1.scatter(X_a[:, 0], X_a[:, 1], c=colors[Y])\n",
    "ax2.scatter(X_c[:, 0], X_c[:, 1], c=colors[Y])\n",
    "ax1.set_title('Normalizacao errada')\n",
    "ax2.set_title('X_c: Normalizacao correta')"
   ]
  },
  {
   "cell_type": "markdown",
   "metadata": {
    "ExecuteTime": {
     "end_time": "2017-05-09T21:04:39.434102",
     "start_time": "2017-05-09T21:04:39.424242"
    }
   },
   "source": [
    "def oneHotIt2(Y,n_classes):\n",
    "    Y = Y.reshape(-1,1)\n",
    "    i = np.arange(n_classes).reshape(1,n_classes)\n",
    "    Y_oh = (Y == i).astype(int)\n",
    "    return Y_oh\n",
    "\n",
    "def oneHotIt(Y,n_classes):\n",
    "    n_samples = Y.size # número de amostras\n",
    "    i = np.arange(n_samples)\n",
    "    Y_oh = np.zeros(shape=(n_samples,n_classes))\n",
    "    Y_oh[i,Y] = 1\n",
    "    return Y_oh"
   ]
  },
  {
   "cell_type": "markdown",
   "metadata": {},
   "source": [
    "## Colocando a coluna 0 em X com 1s como o 'bias'\n",
    "\n",
    "Conforme visto no exercício da Regressão Linear, a equação linear de y em função de x0, x1, x_k tem um fator independente de x, denominado bias. Inserindo-se a coluna 0 de X com 1, é equivalente a definir o w0 como bias."
   ]
  },
  {
   "cell_type": "code",
   "execution_count": 9,
   "metadata": {},
   "outputs": [
    {
     "name": "stdout",
     "output_type": "stream",
     "text": [
      "X_bias[:5]=\n",
      " [[ 1.          0.22222222  0.06779661]\n",
      " [ 1.          0.16666667  0.06779661]\n",
      " [ 1.          0.11111111  0.05084746]\n",
      " [ 1.          0.08333333  0.08474576]\n",
      " [ 1.          0.19444444  0.06779661]]\n"
     ]
    }
   ],
   "source": [
    "X_bias = np.hstack([np.ones((150,1)),X_c]) # incluído X com coluna de 1s para gerar bias no W\n",
    "print('X_bias[:5]=\\n',X_bias[:5])"
   ]
  },
  {
   "cell_type": "markdown",
   "metadata": {},
   "source": [
    "## Este é o laço principal da Regressão Logística por Softmax\n",
    "\n",
    "Os pesos são inicializados em zero, sem fator de regularização.\n",
    "Em cada iteração, a função a ser minimizada é calculada e os pesos são ajustados\n",
    "pelo técnica de gradiente descendente."
   ]
  },
  {
   "cell_type": "code",
   "execution_count": 10,
   "metadata": {},
   "outputs": [],
   "source": [
    "n_amostras = X_bias.shape[0] # number of training examples\n",
    "n_atributos = X_bias.shape[1] # number of attributes (features, pixels + 1(bias))\n",
    "n_classes = 3         # number of classes\n",
    "WT = np.zeros((n_atributos,n_classes)) # n. de linhas é igual a número de atributos (features, pixels)\n",
    "epochs = 3000\n",
    "learningRate = 0.01\n"
   ]
  },
  {
   "cell_type": "code",
   "execution_count": 11,
   "metadata": {},
   "outputs": [
    {
     "name": "stdout",
     "output_type": "stream",
     "text": [
      "X.shape: (150, 2)\n",
      "Y.shape: (150,)\n"
     ]
    }
   ],
   "source": [
    "print('X.shape:',X.shape)\n",
    "print('Y.shape:',Y.shape)\n",
    "\n"
   ]
  },
  {
   "cell_type": "code",
   "execution_count": 12,
   "metadata": {},
   "outputs": [
    {
     "name": "stdout",
     "output_type": "stream",
     "text": [
      "torch.Size([150, 2])\n",
      "torch.Size([150, 3])\n"
     ]
    }
   ],
   "source": [
    "X_train_tensor = torch.from_numpy(X).type(torch.FloatTensor)\n",
    "ones = torch.ones(X.shape[0],1)\n",
    "ones = ones.type(torch.FloatTensor)\n",
    "X_bias = torch.cat((ones, X_train_tensor), 1)\n",
    "print(X_train_tensor.size())\n",
    "print(X_bias.size())"
   ]
  },
  {
   "cell_type": "code",
   "execution_count": 13,
   "metadata": {},
   "outputs": [
    {
     "name": "stdout",
     "output_type": "stream",
     "text": [
      "torch.Size([150, 3])\n"
     ]
    }
   ],
   "source": [
    "Y_train_tensor = torch.from_numpy(Y).type(torch.LongTensor)\n",
    "Y_tensor = oneHotIt_tensor(Y_train_tensor,3)\n",
    "print(Y_tensor.size())"
   ]
  },
  {
   "cell_type": "code",
   "execution_count": 14,
   "metadata": {},
   "outputs": [
    {
     "name": "stdout",
     "output_type": "stream",
     "text": [
      "torch.Size([3, 3])\n"
     ]
    }
   ],
   "source": [
    "WT = torch.zeros((n_atributos,n_classes))\n",
    "\n",
    "print(WT.size())"
   ]
  },
  {
   "cell_type": "code",
   "execution_count": 15,
   "metadata": {},
   "outputs": [
    {
     "name": "stdout",
     "output_type": "stream",
     "text": [
      "Final loss: 0.3064621494275828\n"
     ]
    }
   ],
   "source": [
    "losses = []\n",
    "for i in range(epochs):\n",
    "    #Z = X_bias.dot(WT)\n",
    "    Z = X_bias.mm(WT)\n",
    "    Y_oh_hat = softmax(Z)\n",
    "    loss = (-1. / n_amostras) * torch.sum(Y_tensor * torch.log(Y_oh_hat))\n",
    "    Grad = (-1. / n_amostras) * (torch.t(X_bias)).mm(Y_tensor - Y_oh_hat)    \n",
    "\n",
    "    WT = WT - (learningRate * Grad)\n",
    "    losses.append(loss)\n",
    "print('Final loss:',loss)"
   ]
  },
  {
   "cell_type": "markdown",
   "metadata": {},
   "source": [
    "## Visualizando a minimização da Perda durante o treinamento\n",
    "\n",
    "É fundamental acompanhar o comportamento da Perda durante o treinamento, pois é difícil prever se os parâmetros do gradiente descendente estão bons."
   ]
  },
  {
   "cell_type": "code",
   "execution_count": 16,
   "metadata": {
    "ExecuteTime": {
     "end_time": "2017-05-09T21:09:17.505884",
     "start_time": "2017-05-09T21:09:17.278419"
    }
   },
   "outputs": [
    {
     "data": {
      "text/plain": [
       "[<matplotlib.lines.Line2D at 0x7f91dac40c50>]"
      ]
     },
     "execution_count": 16,
     "metadata": {},
     "output_type": "execute_result"
    },
    {
     "data": {
      "image/png": "[encoded data removed]",
      "text/plain": [
       "<matplotlib.figure.Figure at 0x7f91dab29940>"
      ]
     },
     "metadata": {},
     "output_type": "display_data"
    }
   ],
   "source": [
    "plt.plot(losses)"
   ]
  },
  {
   "cell_type": "markdown",
   "metadata": {},
   "source": [
    "## Predict"
   ]
  },
  {
   "cell_type": "markdown",
   "metadata": {},
   "source": [
    "## Colocando a coluna 0 em X com 1s como o 'bias'\n",
    "\n",
    "Conforme visto no exercício da Regressão Linear, a equação linear de y em função de x0, x1, x_k tem um fator independente de x, denominado bias. Inserindo-se a coluna 0 de X com 1, é equivalente a definir o w0 como bias."
   ]
  },
  {
   "cell_type": "code",
   "execution_count": null,
   "metadata": {
    "collapsed": true
   },
   "outputs": [],
   "source": []
  },
  {
   "cell_type": "code",
   "execution_count": 17,
   "metadata": {},
   "outputs": [
    {
     "name": "stdout",
     "output_type": "stream",
     "text": [
      "Training Accuracy:  0.9466666666666667 %\n"
     ]
    }
   ],
   "source": [
    "print('Training Accuracy: ', getAccuracy(X_bias,WT,Y_train_tensor), '%')"
   ]
  },
  {
   "cell_type": "code",
   "execution_count": 18,
   "metadata": {},
   "outputs": [
    {
     "name": "stdout",
     "output_type": "stream",
     "text": [
      "(150,)\n"
     ]
    }
   ],
   "source": [
    "val, y_pred_max = predict(X_bias,WT)\n",
    "y_pred_max = y_pred_max.numpy()\n",
    "print(y_pred_max.shape)"
   ]
  },
  {
   "cell_type": "code",
   "execution_count": 19,
   "metadata": {},
   "outputs": [
    {
     "name": "stdout",
     "output_type": "stream",
     "text": [
      "Matriz de confusão (Treino):\n"
     ]
    },
    {
     "data": {
      "text/html": [
       "<div>\n",
       "<table border=\"1\" class=\"dataframe\">\n",
       "  <thead>\n",
       "    <tr style=\"text-align: right;\">\n",
       "      <th>col_0</th>\n",
       "      <th>0</th>\n",
       "      <th>1</th>\n",
       "      <th>2</th>\n",
       "    </tr>\n",
       "    <tr>\n",
       "      <th>row_0</th>\n",
       "      <th></th>\n",
       "      <th></th>\n",
       "      <th></th>\n",
       "    </tr>\n",
       "  </thead>\n",
       "  <tbody>\n",
       "    <tr>\n",
       "      <th>0</th>\n",
       "      <td>50</td>\n",
       "      <td>0</td>\n",
       "      <td>0</td>\n",
       "    </tr>\n",
       "    <tr>\n",
       "      <th>1</th>\n",
       "      <td>0</td>\n",
       "      <td>43</td>\n",
       "      <td>1</td>\n",
       "    </tr>\n",
       "    <tr>\n",
       "      <th>2</th>\n",
       "      <td>0</td>\n",
       "      <td>7</td>\n",
       "      <td>49</td>\n",
       "    </tr>\n",
       "  </tbody>\n",
       "</table>\n",
       "</div>"
      ],
      "text/plain": [
       "col_0   0   1   2\n",
       "row_0            \n",
       "0      50   0   0\n",
       "1       0  43   1\n",
       "2       0   7  49"
      ]
     },
     "metadata": {},
     "output_type": "display_data"
    }
   ],
   "source": [
    "print('Matriz de confusão (Treino):')\n",
    "display(pd.crosstab(y_pred_max, Y_train_tensor.numpy()))"
   ]
  },
  {
   "cell_type": "code",
   "execution_count": null,
   "metadata": {
    "collapsed": true
   },
   "outputs": [],
   "source": []
  }
 ],
 "metadata": {
  "anaconda-cloud": {},
  "kernelspec": {
   "display_name": "Python 3",
   "language": "python",
   "name": "python3"
  },
  "language_info": {
   "codemirror_mode": {
    "name": "ipython",
    "version": 3
   },
   "file_extension": ".py",
   "mimetype": "text/x-python",
   "name": "python",
   "nbconvert_exporter": "python",
   "pygments_lexer": "ipython3",
   "version": "3.6.0"
  },
  "toc": {
   "colors": {
    "hover_highlight": "#DAA520",
    "running_highlight": "#FF0000",
    "selected_highlight": "#FFD700"
   },
   "moveMenuLeft": true,
   "nav_menu": {
    "height": "498px",
    "width": "252px"
   },
   "navigate_menu": true,
   "number_sections": true,
   "sideBar": true,
   "threshold": 4,
   "toc_cell": true,
   "toc_section_display": "block",
   "toc_window_display": false
  }
 },
 "nbformat": 4,
 "nbformat_minor": 1
}
