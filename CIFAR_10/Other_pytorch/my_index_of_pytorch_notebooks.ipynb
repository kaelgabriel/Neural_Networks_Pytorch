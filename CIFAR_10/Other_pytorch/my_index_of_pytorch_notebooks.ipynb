{
 "cells": [
  {
   "cell_type": "code",
   "execution_count": 1,
   "metadata": {},
   "outputs": [
    {
     "name": "stdout",
     "output_type": "stream",
     "text": [
      "Meu nome é: Gabriel Moraes Barros \n",
      "Meu RA é: 192801\n"
     ]
    }
   ],
   "source": [
    "print('Meu nome é: Gabriel Moraes Barros ')\n",
    "print('Meu RA é: 192801')"
   ]
  },
  {
   "cell_type": "markdown",
   "metadata": {},
   "source": [
    "# Lista de notebooks do meu tutorial de Pytorch"
   ]
  },
  {
   "cell_type": "markdown",
   "metadata": {},
   "source": [
    "Estude os notebooks da [LearningPytorchbyExamples.ipynb](LearningPytorchbyExamples.ipynb) e desenvolva os notebooks iniciais feitos no curso:\n",
    "- regressão linear - estimar comprimento da pétala a partir do comprimento da sépala\n",
    "- exercícios de regressão linear com mini-batch gradiente descendente\n",
    "- regressão logística - 3 classes - Iris dataset\n",
    "- regressão logística - 10 classes - dígitos MNIST\n",
    "- rede com 1 ou mais camadas escondidas - 3 classes - Iris dataset\n",
    "\n",
    "Coloque aqui os links para os notebooks feitos assim como seus comentários"
   ]
  },
  {
   "cell_type": "markdown",
   "metadata": {
    "collapsed": true
   },
   "source": [
    "1 - [regressão linear - estimar comprimento da pétala a partir do comprimento da sépala](my_linear_regression.ipynb)"
   ]
  },
  {
   "cell_type": "markdown",
   "metadata": {},
   "source": [
    "2 - [regressão linear com mini-batch gradiente descendente](my_sgd_minibatch.ipynb)"
   ]
  },
  {
   "cell_type": "markdown",
   "metadata": {},
   "source": [
    "3 - [regressão logística - 3 classes - Iris dataset](my_mapa_atributos.ipynb)\n"
   ]
  },
  {
   "cell_type": "markdown",
   "metadata": {},
   "source": [
    "4 - [regressão logística - 10 classes - dígitos MNIST](my_logistic_regression_mnist.ipynb)\n"
   ]
  },
  {
   "cell_type": "markdown",
   "metadata": {},
   "source": [
    "5 - [rede com 1 ou mais camadas escondidas - 3 classes - Iris dataset](my_logistic_regression_iris.ipynb)"
   ]
  }
 ],
 "metadata": {
  "kernelspec": {
   "display_name": "Python 3",
   "language": "python",
   "name": "python3"
  },
  "language_info": {
   "codemirror_mode": {
    "name": "ipython",
    "version": 3
   },
   "file_extension": ".py",
   "mimetype": "text/x-python",
   "name": "python",
   "nbconvert_exporter": "python",
   "pygments_lexer": "ipython3",
   "version": "3.6.0"
  }
 },
 "nbformat": 4,
 "nbformat_minor": 2
}
