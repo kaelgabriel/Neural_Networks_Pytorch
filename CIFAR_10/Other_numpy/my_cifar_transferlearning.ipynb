{
 "cells": [
  {
   "cell_type": "code",
   "execution_count": 1,
   "metadata": {
    "ExecuteTime": {
     "end_time": "2017-09-09T01:20:10.347850Z",
     "start_time": "2017-09-09T01:20:10.339850Z"
    }
   },
   "outputs": [
    {
     "name": "stdout",
     "output_type": "stream",
     "text": [
      "Meu nome é: Gabriel Moraes Barros \n",
      "Meu RA é: 192801\n"
     ]
    }
   ],
   "source": [
    "print('Meu nome é: Gabriel Moraes Barros ')\n",
    "print('Meu RA é: 192801')"
   ]
  },
  {
   "cell_type": "code",
   "execution_count": 2,
   "metadata": {},
   "outputs": [
    {
     "name": "stderr",
     "output_type": "stream",
     "text": [
      "Using TensorFlow backend.\n"
     ]
    },
    {
     "name": "stdout",
     "output_type": "stream",
     "text": [
      "Keras  2.0.5\n"
     ]
    }
   ],
   "source": [
    "%matplotlib inline\n",
    "import matplotlib.pyplot as plot\n",
    "from IPython import display\n",
    "\n",
    "import sys\n",
    "import numpy as np\n",
    "import numpy.random as nr\n",
    "\n",
    "import keras\n",
    "from keras.callbacks import EarlyStopping, ModelCheckpoint, ReduceLROnPlateau\n",
    "\n",
    "from keras.preprocessing.image import ImageDataGenerator, load_img, img_to_array\n",
    "from keras.models import Sequential\n",
    "from keras.layers import Convolution2D, MaxPooling2D\n",
    "from keras.layers import Conv2D\n",
    "from keras.layers import Activation, Dropout, Flatten, Dense\n",
    "from keras.optimizers import (SGD, \n",
    "                              RMSprop, \n",
    "                              Adam, \n",
    "                              Adadelta, \n",
    "                              Adagrad)\n",
    "\n",
    "print('Keras ', keras.__version__)"
   ]
  },
  {
   "cell_type": "code",
   "execution_count": 3,
   "metadata": {
    "collapsed": true
   },
   "outputs": [],
   "source": [
    "import os\n",
    "os.makedirs('../models', exist_ok=True)\n",
    "nr.seed(20170603)"
   ]
  },
  {
   "cell_type": "code",
   "execution_count": 4,
   "metadata": {},
   "outputs": [
    {
     "name": "stdout",
     "output_type": "stream",
     "text": [
      "my_keras_utilities.py  __pycache__\r\n"
     ]
    }
   ],
   "source": [
    "!ls ../utils"
   ]
  },
  {
   "cell_type": "code",
   "execution_count": 5,
   "metadata": {
    "collapsed": true
   },
   "outputs": [],
   "source": [
    "sys.path.append('../utils')\n",
    "from my_keras_utilities import (get_available_gpus, \n",
    "                                load_model_and_history, \n",
    "                                save_model_and_history, \n",
    "                                TrainingPlotter, train_network)\n"
   ]
  },
  {
   "cell_type": "markdown",
   "metadata": {},
   "source": [
    "### Testa se um modulo foi importado"
   ]
  },
  {
   "cell_type": "code",
   "execution_count": 6,
   "metadata": {},
   "outputs": [
    {
     "data": {
      "text/plain": [
       "True"
      ]
     },
     "execution_count": 6,
     "metadata": {},
     "output_type": "execute_result"
    }
   ],
   "source": [
    "'my_keras_utilities' in sys.modules\n",
    "\n"
   ]
  },
  {
   "cell_type": "markdown",
   "metadata": {},
   "source": [
    "try:\n",
    "    train_network(model_week05, model_name, train_generator, validation_generator, **fit_params);\n",
    "except AttributeError:\n",
    "      print('nope')"
   ]
  },
  {
   "cell_type": "code",
   "execution_count": 7,
   "metadata": {
    "ExecuteTime": {
     "end_time": "2017-09-09T01:20:10.882645Z",
     "start_time": "2017-09-09T01:20:10.751750Z"
    }
   },
   "outputs": [
    {
     "name": "stdout",
     "output_type": "stream",
     "text": [
      "Backend:        tensorflow\n",
      "Data format:    channels_first\n",
      "/bin/sh: 1: nvidia-smib: not found\r\n"
     ]
    }
   ],
   "source": [
    "import keras.backend as K\n",
    "K.set_image_data_format('channels_first')\n",
    "K.set_floatx('float32')\n",
    "print('Backend:        {}'.format(K.backend()))\n",
    "print('Data format:    {}'.format(K.image_data_format()))\n",
    "!nvidia-smib"
   ]
  },
  {
   "cell_type": "code",
   "execution_count": 8,
   "metadata": {
    "ExecuteTime": {
     "end_time": "2017-09-09T01:20:11.258830Z",
     "start_time": "2017-09-09T01:20:11.118586Z"
    }
   },
   "outputs": [
    {
     "name": "stdout",
     "output_type": "stream",
     "text": [
      "ls: cannot access '../Task 5': No such file or directory\r\n"
     ]
    }
   ],
   "source": [
    "!ls ../Task\\ 5"
   ]
  },
  {
   "cell_type": "markdown",
   "metadata": {},
   "source": [
    "## Função auxiliar"
   ]
  },
  {
   "cell_type": "markdown",
   "metadata": {},
   "source": [
    "## Subindo o dataset"
   ]
  },
  {
   "cell_type": "code",
   "execution_count": 9,
   "metadata": {
    "ExecuteTime": {
     "end_time": "2017-09-09T01:20:12.005955Z",
     "start_time": "2017-09-09T01:20:12.000245Z"
    },
    "collapsed": true
   },
   "outputs": [],
   "source": [
    "#auternar o comentário, se estiver no client ou no remote\n",
    "data = np.load('/etc/jupyterhub/ia368z_2s2017/datasets/cifar10-redux.npz')\n",
    "#data = np.load('../Task 5/cifar10-redux.npz')"
   ]
  },
  {
   "cell_type": "code",
   "execution_count": 10,
   "metadata": {
    "ExecuteTime": {
     "end_time": "2017-09-09T01:20:12.265870Z",
     "start_time": "2017-09-09T01:20:12.244731Z"
    },
    "collapsed": true
   },
   "outputs": [],
   "source": [
    "X_train = data['X_train']\n",
    "y_train = data['y_train']\n",
    "X_test = data['X_test']\n",
    "y_test = data['y_test']"
   ]
  },
  {
   "cell_type": "code",
   "execution_count": 11,
   "metadata": {
    "ExecuteTime": {
     "end_time": "2017-09-09T01:20:12.504461Z",
     "start_time": "2017-09-09T01:20:12.496212Z"
    }
   },
   "outputs": [
    {
     "data": {
      "text/plain": [
       "(dtype('uint8'), dtype('uint8'), dtype('uint8'), dtype('int64'))"
      ]
     },
     "execution_count": 11,
     "metadata": {},
     "output_type": "execute_result"
    }
   ],
   "source": [
    "X_train.dtype, y_train.dtype, X_test.dtype, y_test.dtype"
   ]
  },
  {
   "cell_type": "markdown",
   "metadata": {},
   "source": [
    "### Separando o conjunto de treinamento em validação e treinamento, numa proporção 80/20 %\n"
   ]
  },
  {
   "cell_type": "code",
   "execution_count": 12,
   "metadata": {},
   "outputs": [
    {
     "name": "stderr",
     "output_type": "stream",
     "text": [
      "/home/adessowiki/anaconda3/lib/python3.6/site-packages/ipykernel/__main__.py:7: VisibleDeprecationWarning: using a non-integer number instead of an integer will result in an error in the future\n",
      "/home/adessowiki/anaconda3/lib/python3.6/site-packages/ipykernel/__main__.py:8: VisibleDeprecationWarning: using a non-integer number instead of an integer will result in an error in the future\n",
      "/home/adessowiki/anaconda3/lib/python3.6/site-packages/ipykernel/__main__.py:9: VisibleDeprecationWarning: using a non-integer number instead of an integer will result in an error in the future\n",
      "/home/adessowiki/anaconda3/lib/python3.6/site-packages/ipykernel/__main__.py:10: VisibleDeprecationWarning: using a non-integer number instead of an integer will result in an error in the future\n"
     ]
    }
   ],
   "source": [
    "p=np.random.permutation(len(X_train))\n",
    "percent_factor=0.85\n",
    "new_train_x = X_train[p]\n",
    "new_train_y = y_train[p]\n",
    "\n",
    "\n",
    "new_X_train = new_train_x[0:(np.floor(len(new_train_x)*percent_factor))]\n",
    "new_y_train = new_train_y[0:(np.floor(len(new_train_y)*percent_factor))]\n",
    "new_X_val = new_train_x[(np.ceil(len(new_train_x)*percent_factor)):]\n",
    "new_y_val = new_train_y[(np.ceil(len(new_train_y)*percent_factor)):]\n"
   ]
  },
  {
   "cell_type": "code",
   "execution_count": 13,
   "metadata": {
    "ExecuteTime": {
     "end_time": "2017-09-09T01:20:12.773731Z",
     "start_time": "2017-09-09T01:20:12.765869Z"
    }
   },
   "outputs": [
    {
     "name": "stdout",
     "output_type": "stream",
     "text": [
      "X_train.shape (1700, 3, 32, 32)\n",
      "y_train.shape (1700,)\n",
      "X_val.shape (300, 3, 32, 32)\n",
      "y_val.shape (300,)\n",
      "y_test shape  (500,)\n",
      "X_test.shape: (500, 3, 32, 32)\n"
     ]
    }
   ],
   "source": [
    "print('X_train.shape',new_X_train.shape)\n",
    "print('y_train.shape',new_y_train.shape)\n",
    "print('X_val.shape',new_X_val.shape)\n",
    "print('y_val.shape',new_y_val.shape)\n",
    "print('y_test shape ',y_test.shape)\n",
    "print('X_test.shape:',X_test.shape)\n"
   ]
  },
  {
   "cell_type": "code",
   "execution_count": 14,
   "metadata": {
    "ExecuteTime": {
     "end_time": "2017-09-09T01:20:13.107292Z",
     "start_time": "2017-09-09T01:20:13.102728Z"
    }
   },
   "outputs": [
    {
     "name": "stdout",
     "output_type": "stream",
     "text": [
      "Número de diferentes classes 3\n"
     ]
    }
   ],
   "source": [
    "print('Número de diferentes classes',len(np.unique(y_test)))\n"
   ]
  },
  {
   "cell_type": "markdown",
   "metadata": {},
   "source": [
    "Normalizando os dados"
   ]
  },
  {
   "cell_type": "code",
   "execution_count": 15,
   "metadata": {
    "ExecuteTime": {
     "end_time": "2017-09-09T01:20:13.816180Z",
     "start_time": "2017-09-09T01:20:13.799877Z"
    }
   },
   "outputs": [
    {
     "name": "stdout",
     "output_type": "stream",
     "text": [
      "113.781868652\n"
     ]
    }
   ],
   "source": [
    "a=0\n",
    "print(np.mean(X_train))"
   ]
  },
  {
   "cell_type": "code",
   "execution_count": 16,
   "metadata": {
    "ExecuteTime": {
     "end_time": "2017-09-09T01:20:14.172398Z",
     "start_time": "2017-09-09T01:20:14.135961Z"
    }
   },
   "outputs": [
    {
     "name": "stdout",
     "output_type": "stream",
     "text": [
      "0.445836\n",
      "0.448282\n",
      "0.458465\n"
     ]
    }
   ],
   "source": [
    "#Guaranteeing that it only runs once\n",
    "if (a==0):\n",
    "    X_test = X_test.astype('float32')\n",
    "    new_X_train = new_X_train.astype('float32')\n",
    "    new_X_val = new_X_val.astype('float32')\n",
    "    \n",
    "    new_X_val /= 255.\n",
    "    new_X_train /= 255.\n",
    "    X_test /= 255.\n",
    "    \n",
    "    a=1\n",
    "print(np.mean(new_X_train))\n",
    "print(np.mean(new_X_val))\n",
    "print(np.mean(X_test))"
   ]
  },
  {
   "cell_type": "code",
   "execution_count": 17,
   "metadata": {
    "collapsed": true
   },
   "outputs": [],
   "source": [
    "from keras.utils import np_utils\n",
    "\n",
    "## Transforma o vetor de labels para o formato de one-hot encoding.\n",
    "n_classes = 3\n",
    "y_train_oh = np_utils.to_categorical(new_y_train-3, n_classes)\n",
    "y_val_oh = np_utils.to_categorical(new_y_val-3, n_classes)\n",
    "y_test_oh = np_utils.to_categorical(y_test-3, n_classes)"
   ]
  },
  {
   "cell_type": "code",
   "execution_count": 18,
   "metadata": {
    "ExecuteTime": {
     "end_time": "2017-09-09T01:20:14.948527Z",
     "start_time": "2017-09-09T01:20:14.942812Z"
    }
   },
   "outputs": [
    {
     "name": "stdout",
     "output_type": "stream",
     "text": [
      "(1700, 3)\n",
      "(300, 3)\n",
      "(500, 3)\n"
     ]
    }
   ],
   "source": [
    "print(y_train_oh.shape)\n",
    "print(y_val_oh.shape)\n",
    "print(y_test_oh.shape)\n"
   ]
  },
  {
   "cell_type": "markdown",
   "metadata": {},
   "source": [
    "## Fazendo o data augmentation"
   ]
  },
  {
   "cell_type": "code",
   "execution_count": 19,
   "metadata": {
    "ExecuteTime": {
     "end_time": "2017-09-09T01:20:15.670473Z",
     "start_time": "2017-09-09T01:20:15.664241Z"
    }
   },
   "outputs": [
    {
     "name": "stdout",
     "output_type": "stream",
     "text": [
      "(2000, 3, 32, 32)\n",
      "(500, 3, 32, 32)\n"
     ]
    }
   ],
   "source": [
    "print(X_train.shape)\n",
    "print(X_test.shape)"
   ]
  },
  {
   "cell_type": "code",
   "execution_count": 20,
   "metadata": {},
   "outputs": [
    {
     "name": "stdout",
     "output_type": "stream",
     "text": [
      "new x train shape (1700, 3, 32, 32)\n",
      "y train oh shape (1700, 3)\n",
      "new x val shape (300, 3, 32, 32)\n",
      "y val oh shape (300, 3)\n"
     ]
    }
   ],
   "source": [
    "print('new x train shape', new_X_train.shape)\n",
    "print('y train oh shape', y_train_oh.shape)\n",
    "\n",
    "print('new x val shape', new_X_val.shape)\n",
    "print('y val oh shape', y_val_oh.shape)\n",
    "\n"
   ]
  },
  {
   "cell_type": "code",
   "execution_count": 21,
   "metadata": {},
   "outputs": [
    {
     "name": "stdout",
     "output_type": "stream",
     "text": [
      "nb val samples 300\n"
     ]
    }
   ],
   "source": [
    "from keras.preprocessing.image import ImageDataGenerator, load_img, img_to_array\n",
    "nb_train_samples = new_train_x.shape[0]\n",
    "nb_val_samples = new_X_val.shape[0]\n",
    "print('nb val samples',nb_val_samples)\n",
    "nb_test_samples = X_test.shape[0]\n",
    "\n",
    "# dimensions of our images.\n",
    "img_width, img_height = 32, 32\n",
    "batch_size=50\n",
    "# this is the augmentation configuration we will use for training\n",
    "\n",
    "r(\n",
    "       #rescale=1./255,         # sempre faz o rescale\n",
    "       shear_range=0.2,        # sorteio entre 0 e 0.2 distribuição uniforme\n",
    "       zoom_range=0.2,         # sorteio entre 0 e 0.2\n",
    "       horizontal_flip=True)   # sorteio 50%\n",
    "\n",
    "test_datagen = ImageDataGenerator(rescale = 1/1.)\n",
    "        #shear_range=0.2,        # sorteio entre 0 e 0.2 distribuição uniforme\n",
    "       #zoom_range=0.2,         # sorteio entre 0 e 0.2\n",
    "       #horizontal_flip=True)   # sorteio 50%\n",
    "\n",
    "train_generator = train_datagen.flow(\n",
    "        new_X_train,y_train_oh,                       # as amostras de treinamento\n",
    "        batch_size=batch_size                # batch size do SGD\n",
    "    )\n",
    "\n",
    "validation_generator = train_datagen.flow(\n",
    "        new_X_val, y_val_oh,                  # as amostras de validação\n",
    "        batch_size=batch_size)"
   ]
  },
  {
   "cell_type": "code",
   "execution_count": 22,
   "metadata": {
    "collapsed": true
   },
   "outputs": [],
   "source": [
    "test_generator = test_datagen.flow(\n",
    "        X_test, y_test_oh,                  # as amostras de validação\n",
    "        batch_size=batch_size)"
   ]
  },
  {
   "cell_type": "code",
   "execution_count": 23,
   "metadata": {
    "ExecuteTime": {
     "end_time": "2017-09-09T01:21:21.747496Z",
     "start_time": "2017-09-09T01:21:21.729673Z"
    },
    "collapsed": true
   },
   "outputs": [],
   "source": [
    "#Conjunto de treinaemnto\n",
    "samples_train = train_datagen.flow(new_X_train)\n",
    "n_samples_train = nb_train_samples/batch_size\n",
    "\n",
    "#Conjunto de teste\n",
    "samples_test = train_datagen.flow(X_test)\n",
    "n_samples_test = nb_test_samples/batch_size\n",
    "#Conjunto de validacao\n",
    "\n",
    "samples_val = train_datagen.flow(new_X_val)\n",
    "n_samples_val = nb_val_samples/batch_size"
   ]
  },
  {
   "cell_type": "code",
   "execution_count": 24,
   "metadata": {
    "ExecuteTime": {
     "end_time": "2017-09-09T01:21:25.667573Z",
     "start_time": "2017-09-09T01:21:25.660405Z"
    }
   },
   "outputs": [
    {
     "name": "stdout",
     "output_type": "stream",
     "text": [
      "3\n"
     ]
    }
   ],
   "source": [
    "n_classes = len(np.unique(y_test))\n",
    "print(n_classes)"
   ]
  },
  {
   "cell_type": "markdown",
   "metadata": {},
   "source": [
    "# Transfer_Learning\n"
   ]
  },
  {
   "cell_type": "markdown",
   "metadata": {},
   "source": [
    "## Subindo a VGG-16"
   ]
  },
  {
   "cell_type": "code",
   "execution_count": 25,
   "metadata": {
    "ExecuteTime": {
     "end_time": "2017-09-09T00:58:01.450645Z",
     "start_time": "2017-09-09T00:57:23.054835Z"
    }
   },
   "outputs": [
    {
     "name": "stderr",
     "output_type": "stream",
     "text": [
      "/home/adessowiki/anaconda3/lib/python3.6/site-packages/keras/applications/vgg16.py:181: UserWarning: You are using the TensorFlow backend, yet you are using the Theano image data format convention (`image_data_format=\"channels_first\"`). For best performance, set `image_data_format=\"channels_last\"` in your Keras config at ~/.keras/keras.json.\n",
      "  warnings.warn('You are using the TensorFlow backend, yet you '\n"
     ]
    }
   ],
   "source": [
    "from keras.applications.vgg16 import VGG16\n",
    "modelvgg = VGG16(include_top=False, weights='imagenet')\n"
   ]
  },
  {
   "cell_type": "code",
   "execution_count": 26,
   "metadata": {},
   "outputs": [
    {
     "data": {
      "text/plain": [
       "<keras.layers.convolutional.Conv2D at 0x7f81ccff2e48>"
      ]
     },
     "execution_count": 26,
     "metadata": {},
     "output_type": "execute_result"
    }
   ],
   "source": [
    "modelvgg.layers.pop(18)\n",
    "modelvgg.layers.pop(17)\n",
    "modelvgg.layers.pop(16)\n",
    "modelvgg.layers.pop(15)"
   ]
  },
  {
   "cell_type": "code",
   "execution_count": null,
   "metadata": {
    "collapsed": true
   },
   "outputs": [],
   "source": [
    "#modelvgg.summary()"
   ]
  },
  {
   "cell_type": "code",
   "execution_count": 27,
   "metadata": {},
   "outputs": [
    {
     "name": "stdout",
     "output_type": "stream",
     "text": [
      "train_features shape and type (1700, 512, 1, 1) float32\n",
      "validation_features shape and type (300, 512, 1, 1) float32\n",
      "test_features shape and type (500, 512, 1, 1) float32\n"
     ]
    }
   ],
   "source": [
    "train_features = modelvgg.predict(new_X_train)\n",
    "print('train_features shape and type',train_features.shape,train_features.dtype)\n",
    "validation_features = modelvgg.predict(new_X_val)\n",
    "print('validation_features shape and type',validation_features.shape,train_features.dtype)\n",
    "test_features = modelvgg.predict(X_test)\n",
    "print('test_features shape and type',test_features.shape,train_features.dtype)"
   ]
  },
  {
   "cell_type": "code",
   "execution_count": 28,
   "metadata": {},
   "outputs": [
    {
     "data": {
      "text/plain": [
       "(512, 1, 1)"
      ]
     },
     "execution_count": 28,
     "metadata": {},
     "output_type": "execute_result"
    }
   ],
   "source": [
    "train_features.shape[1:]"
   ]
  },
  {
   "cell_type": "code",
   "execution_count": 29,
   "metadata": {
    "collapsed": true
   },
   "outputs": [],
   "source": [
    "model_name = '../cifar_redux_augmented_vgg'\n",
    "\n",
    "modelVGG = Sequential()\n",
    "modelVGG.add(Flatten(input_shape= train_features.shape[1:]))    \n",
    "modelVGG.add(Dense(120))\n",
    "modelVGG.add(Activation('relu'))\n",
    "modelVGG.add(Dropout(0.5))\n",
    "modelVGG.add(Dense(3))\n",
    "modelVGG.add(Activation('softmax'))"
   ]
  },
  {
   "cell_type": "code",
   "execution_count": 30,
   "metadata": {},
   "outputs": [
    {
     "name": "stdout",
     "output_type": "stream",
     "text": [
      "_________________________________________________________________\n",
      "Layer (type)                 Output Shape              Param #   \n",
      "=================================================================\n",
      "flatten_1 (Flatten)          (None, 512)               0         \n",
      "_________________________________________________________________\n",
      "dense_1 (Dense)              (None, 120)               61560     \n",
      "_________________________________________________________________\n",
      "activation_1 (Activation)    (None, 120)               0         \n",
      "_________________________________________________________________\n",
      "dropout_1 (Dropout)          (None, 120)               0         \n",
      "_________________________________________________________________\n",
      "dense_2 (Dense)              (None, 3)                 363       \n",
      "_________________________________________________________________\n",
      "activation_2 (Activation)    (None, 3)                 0         \n",
      "=================================================================\n",
      "Total params: 61,923\n",
      "Trainable params: 61,923\n",
      "Non-trainable params: 0\n",
      "_________________________________________________________________\n"
     ]
    }
   ],
   "source": [
    "modelVGG.summary()"
   ]
  },
  {
   "cell_type": "markdown",
   "metadata": {},
   "source": [
    "## Treinando class MyCb(TrainingPlotter):\n",
    "    "
   ]
  },
  {
   "cell_type": "code",
   "execution_count": 31,
   "metadata": {
    "collapsed": true
   },
   "outputs": [],
   "source": [
    "class MyCb(TrainingPlotter):\n",
    "    \n",
    "    def on_epoch_end(self, epoch, logs={}):\n",
    "        super().on_epoch_end(epoch, logs)\n",
    "\n",
    "\n",
    "def train_network(model, model_name, Xtra, ytra, Xval, yval, \n",
    "                  opt='rmsprop', batch_size=100, nepochs=50, patience=50, reset=False, ploss=1.0):\n",
    "\n",
    "    do_plot = (ploss > 0.0)\n",
    "    \n",
    "    model_fn = model_name + '.model'\n",
    "    if reset and os.path.isfile(model_fn):\n",
    "        os.unlink(model_name + '.model')\n",
    "        \n",
    "    if not os.path.isfile(model_fn):\n",
    "        # initialize the optimizer and model\n",
    "        print(\"[INFO] compiling model...\")\n",
    "        model.compile(loss=\"categorical_crossentropy\", optimizer=opt, metrics=[\"accuracy\"])    \n",
    "\n",
    "        # History, checkpoint, earlystop, plot losses:\n",
    "        cb = MyCb(n=1, filepath=model_name, patience=patience, plot_losses=do_plot)\n",
    "        \n",
    "    else:\n",
    "        print(\"[INFO] loading model...\")\n",
    "        model, cb = load_model_and_history(model_name)\n",
    "        cb.patience = patience\n",
    "\n",
    "    past_epochs = cb.get_nepochs()\n",
    "    tr_epochs = nepochs - past_epochs\n",
    "    \n",
    "    if do_plot:\n",
    "        vv = 0\n",
    "        fig = plot.figure(figsize=(15,6))\n",
    "        plot.ylim(0.0, ploss)\n",
    "        plot.xlim(0, nepochs)\n",
    "        plot.grid(True)\n",
    "    else:\n",
    "        vv = 2\n",
    "\n",
    "    print(\"[INFO] training for {} epochs ...\".format(tr_epochs))\n",
    "    try:\n",
    "         model.fit(Xtra, ytra, batch_size=batch_size, epochs=tr_epochs, verbose=vv, \n",
    "                      validation_data=(Xval,yval), callbacks=[cb])\n",
    "    except KeyboardInterrupt:\n",
    "        pass\n",
    "\n",
    "    model, histo = load_model_and_history(model_name)\n",
    "    return model, cb\n",
    "\n",
    "\n",
    "def test_network(model_name, Xtest, ytest, batch_size=40):\n",
    "    model, histo = load_model_and_history(model_name)\n",
    "    print('Model from epoch {}'.format(histo.best_epoch))\n",
    "    print(\"[INFO] evaluating in the test data set ...\")\n",
    "    loss, accuracy = model.evaluate(Xtest, ytest, batch_size=batch_size, verbose=1)\n",
    "    print(\"\\n[INFO] accuracy on the test data set: {:.2f}% [{:.5f}]\".format(accuracy * 100, loss))"
   ]
  },
  {
   "cell_type": "code",
   "execution_count": 32,
   "metadata": {},
   "outputs": [
    {
     "name": "stdout",
     "output_type": "stream",
     "text": [
      "train_features.shape (1700, 512, 1, 1)\n",
      "validation_features.shape (300, 512, 1, 1)\n",
      "test_features.shape (500, 512, 1, 1)\n"
     ]
    }
   ],
   "source": [
    "print('train_features.shape',train_features.shape)\n",
    "print('validation_features.shape',validation_features.shape)\n",
    "print('test_features.shape',test_features.shape)\n",
    "\n"
   ]
  },
  {
   "cell_type": "code",
   "execution_count": 33,
   "metadata": {},
   "outputs": [
    {
     "data": {
      "image/png": "[encoded data removed]",
      "text/plain": [
       "<matplotlib.figure.Figure at 0x7f81ccda9320>"
      ]
     },
     "metadata": {},
     "output_type": "display_data"
    }
   ],
   "source": [
    "fit_params = {\n",
    "    'opt':         'adam',           # SGD(lr=0.01, momentum=0.9, nesterov=True), \n",
    "    'nepochs':         100, \n",
    "    'patience':        30,\n",
    "    'ploss':           1.5,\n",
    "    'reset':           True,\n",
    "}\n",
    "\n",
    "train_network(modelVGG, model_name, train_features, y_train_oh, validation_features, y_val_oh,  **fit_params);"
   ]
  },
  {
   "cell_type": "code",
   "execution_count": 34,
   "metadata": {},
   "outputs": [
    {
     "name": "stdout",
     "output_type": "stream",
     "text": [
      "Model from epoch 16\n",
      "[INFO] evaluating in the test data set ...\n",
      "500/500 [==============================] - 0s\n",
      "\n",
      "[INFO] accuracy on the test data set: 68.00% [0.71144]\n"
     ]
    }
   ],
   "source": [
    "test_network(model_name, test_features,y_test_oh,X_test.shape[0])"
   ]
  }
 ],
 "metadata": {
  "kernelspec": {
   "display_name": "Python 3",
   "language": "python",
   "name": "python3"
  },
  "language_info": {
   "codemirror_mode": {
    "name": "ipython",
    "version": 3
   },
   "file_extension": ".py",
   "mimetype": "text/x-python",
   "name": "python",
   "nbconvert_exporter": "python",
   "pygments_lexer": "ipython3",
   "version": "3.6.0"
  }
 },
 "nbformat": 4,
 "nbformat_minor": 2
}
